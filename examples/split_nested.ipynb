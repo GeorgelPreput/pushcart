{
 "cells": [
  {
   "cell_type": "code",
   "execution_count": 1,
   "metadata": {},
   "outputs": [
    {
     "name": "stderr",
     "output_type": "stream",
     "text": [
      "23/08/17 16:49:09 WARN Utils: Your hostname, laptop resolves to a loopback address: 127.0.1.1; using 192.168.2.4 instead (on interface wlan0)\n",
      "23/08/17 16:49:09 WARN Utils: Set SPARK_LOCAL_IP if you need to bind to another address\n",
      "Setting default log level to \"WARN\".\n",
      "To adjust logging level use sc.setLogLevel(newLevel). For SparkR, use setLogLevel(newLevel).\n",
      "23/08/17 16:49:10 WARN NativeCodeLoader: Unable to load native-hadoop library for your platform... using builtin-java classes where applicable\n"
     ]
    }
   ],
   "source": [
    "from pushcart.sources.rest_api.spark import request_dataframe\n",
    "import pushcart.transformations.split_nested.spark as ps\n",
    "from pyspark.sql import SparkSession\n",
    "\n",
    "import pyspark.sql.functions as F\n"
   ]
  },
  {
   "cell_type": "code",
   "execution_count": 2,
   "metadata": {},
   "outputs": [],
   "source": [
    "spark = SparkSession.builder.getOrCreate()\n"
   ]
  },
  {
   "cell_type": "code",
   "execution_count": 3,
   "metadata": {},
   "outputs": [
    {
     "name": "stderr",
     "output_type": "stream",
     "text": [
      "                                                                                \r"
     ]
    },
    {
     "name": "stdout",
     "output_type": "stream",
     "text": [
      "+---------------------------+-------+----+-----------+----+---------+------+-------+-----------------------------------------------------------------------------------------------------------------------------------------------------------------------------------------------------------------------------------------------------------------------------------------------------------------------------------------------------------------------------------------------------------------------------------------------------------------------------------------------------------------------------------------------------------------------+\n",
      "|url                        |headers|auth|params     |data|json_data|method|options|result                                                                                                                                                                                                                                                                                                                                                                                                                                                                                                                                                                 |\n",
      "+---------------------------+-------+----+-----------+----+---------+------+-------+-----------------------------------------------------------------------------------------------------------------------------------------------------------------------------------------------------------------------------------------------------------------------------------------------------------------------------------------------------------------------------------------------------------------------------------------------------------------------------------------------------------------------------------------------------------------------+\n",
      "|https://reqres.in/api/users|{}     |{}  |{page -> 2}|    |{}       |GET   |{}     |[{6, 12, 2, 2, [{Lawson, https://reqres.in/img/faces/7-image.jpg, 7, Michael, michael.lawson@reqres.in}, {Ferguson, https://reqres.in/img/faces/8-image.jpg, 8, Lindsay, lindsay.ferguson@reqres.in}, {Funke, https://reqres.in/img/faces/9-image.jpg, 9, Tobias, tobias.funke@reqres.in}, {Fields, https://reqres.in/img/faces/10-image.jpg, 10, Byron, byron.fields@reqres.in}, {Edwards, https://reqres.in/img/faces/11-image.jpg, 11, George, george.edwards@reqres.in}, {Howell, https://reqres.in/img/faces/12-image.jpg, 12, Rachel, rachel.howell@reqres.in}]}]|\n",
      "+---------------------------+-------+----+-----------+----+---------+------+-------+-----------------------------------------------------------------------------------------------------------------------------------------------------------------------------------------------------------------------------------------------------------------------------------------------------------------------------------------------------------------------------------------------------------------------------------------------------------------------------------------------------------------------------------------------------------------------+\n",
      "\n"
     ]
    },
    {
     "name": "stderr",
     "output_type": "stream",
     "text": [
      "2023-08-17 16:49:15.937 | DEBUG    | pushcart.sources.rest_api.request:_update_url_and_params:202 - URL: https://reqres.in/api/users\n",
      "2023-08-17 16:49:15.937 | DEBUG    | pushcart.sources.rest_api.request:_update_url_and_params:203 - Parameters: {'page': '2'}\n",
      "2023-08-17 16:49:15.937 | INFO     | pushcart.sources.rest_api.request:_build_no_auth_client:110 - Using no authentication.\n",
      "2023-08-17 16:49:15.944 | DEBUG    | pushcart.sources.rest_api.request:_add_data_for_get_request:236 - Added JSON dump of data to GET request body.\n",
      "2023-08-17 16:49:16.005 | DEBUG    | pushcart.sources.rest_api.request:_parse_api_response:358 - Returning JSON response:\n",
      "2023-08-17 16:49:16.005 | DEBUG    | pushcart.sources.rest_api.request:_parse_api_response:360 - [{'page': 2, 'per_page': 6, 'total': 12, 'total_pages': 2, 'data': [{'id': 7, 'email': 'michael.lawson@reqres.in', 'first_name': 'Michael', 'last_name': 'Lawson', 'avatar': 'https://reqres.in/img/faces/7-image.jpg'}, {'id': 8, 'email': 'lindsay.ferguson@reqres.in', 'first_name': 'Lindsay', 'last_name': 'Ferguson', 'avatar': 'https://reqres.in/img/faces/8-image.jpg'}, {'id': 9, 'email': 'tobias.funke@reqres.in', 'first_name': 'Tobias', 'last_name': 'Funke', 'avatar': 'https://reqres.in/img/faces/9-image.jpg'}, {'id': 10, 'email': 'byron.fields@reqres.in', 'first_name': 'Byron', 'last_name': 'Fields', 'avatar': 'https://reqres.in/img/faces/10-image.jpg'}, {'id': 11, 'email': 'george.edwards@reqres.in', 'first_name': 'George', 'last_name': 'Edwards', 'avatar': 'https://reqres.in/img/faces/11-image.jpg'}, {'id': 12, 'email': 'rachel.howell@reqres.in', 'first_name': 'Rachel', 'last_name': 'Howell', 'avatar': 'https://reqres.in/img/faces/12-image.jpg'}], 'support': {'url': 'https://reqres.in/#support-heading', 'text': 'To keep ReqRes free, contributions towards server costs are appreciated!'}}]\n"
     ]
    }
   ],
   "source": [
    "data_schema = \"array<struct<per_page:int, total:int, total_pages:int, page:int, data:array<struct<last_name:string, avatar:string, id:int, first_name:string, email:string>>>>\"\n",
    "\n",
    "result_df = request_dataframe(\n",
    "    url=\"https://reqres.in/api/users\",\n",
    "    params={\"page\": 2},\n",
    "    method=\"GET\",\n",
    "    schema=data_schema,\n",
    ")\n",
    "result_df.show(truncate=False)\n"
   ]
  },
  {
   "cell_type": "code",
   "execution_count": 4,
   "metadata": {},
   "outputs": [
    {
     "name": "stderr",
     "output_type": "stream",
     "text": [
      "\u001b[32m2023-08-17 16:49:16.073\u001b[0m | \u001b[1mINFO    \u001b[0m | \u001b[36mpushcart.transformations.split_nested.spark\u001b[0m:\u001b[36m_split_root\u001b[0m:\u001b[36m296\u001b[0m - \u001b[1mCreating dataframe to serve as base for splitting.\u001b[0m\n",
      "\u001b[32m2023-08-17 16:49:16.127\u001b[0m | \u001b[1mINFO    \u001b[0m | \u001b[36mpushcart.transformations.split_nested.spark\u001b[0m:\u001b[36m_create_split_table\u001b[0m:\u001b[36m254\u001b[0m - \u001b[1mSplitting column result from original dataframe.\u001b[0m\n",
      "\u001b[32m2023-08-17 16:49:16.167\u001b[0m | \u001b[1mINFO    \u001b[0m | \u001b[36mpushcart.transformations.split_nested.spark\u001b[0m:\u001b[36m_split_children\u001b[0m:\u001b[36m337\u001b[0m - \u001b[1mCreated split dataframe for result column.\u001b[0m\n"
     ]
    },
    {
     "data": {
      "text/plain": [
       "{'root': DataFrame[url: string, headers: map<string,string>, auth: map<string,string>, params: map<string,string>, data: string, json_data: map<string,string>, method: string, options: map<string,string>, result_key: string],\n",
       " 'result': DataFrame[result_key: string, result_pos: int, result_col: struct<per_page:int,total:int,total_pages:int,page:int,data:array<struct<last_name:string,avatar:string,id:int,first_name:string,email:string>>>]}"
      ]
     },
     "execution_count": 4,
     "metadata": {},
     "output_type": "execute_result"
    }
   ],
   "source": [
    "split_tables = ps.split(result_df, [\"result\"])\n",
    "split_tables"
   ]
  },
  {
   "cell_type": "code",
   "execution_count": 5,
   "metadata": {},
   "outputs": [
    {
     "name": "stdout",
     "output_type": "stream",
     "text": [
      "+---------------------------+-------+----+-----------+----+---------+------+-------+----------------------------------------+\n",
      "|url                        |headers|auth|params     |data|json_data|method|options|result_key                              |\n",
      "+---------------------------+-------+----+-----------+----+---------+------+-------+----------------------------------------+\n",
      "|https://reqres.in/api/users|{}     |{}  |{page -> 2}|    |{}       |GET   |{}     |dd4fb749e98bd6b3db6218a04a9b8e96b349b6d8|\n",
      "+---------------------------+-------+----+-----------+----+---------+------+-------+----------------------------------------+\n",
      "\n"
     ]
    },
    {
     "name": "stderr",
     "output_type": "stream",
     "text": [
      "2023-08-17 16:49:16.583 | DEBUG    | pushcart.sources.rest_api.request:_update_url_and_params:202 - URL: https://reqres.in/api/users\n",
      "2023-08-17 16:49:16.583 | DEBUG    | pushcart.sources.rest_api.request:_update_url_and_params:203 - Parameters: {'page': '2'}\n",
      "2023-08-17 16:49:16.583 | INFO     | pushcart.sources.rest_api.request:_build_no_auth_client:110 - Using no authentication.\n",
      "2023-08-17 16:49:16.609 | DEBUG    | pushcart.sources.rest_api.request:_add_data_for_get_request:236 - Added JSON dump of data to GET request body.\n",
      "2023-08-17 16:49:16.682 | DEBUG    | pushcart.sources.rest_api.request:_parse_api_response:358 - Returning JSON response:\n",
      "2023-08-17 16:49:16.682 | DEBUG    | pushcart.sources.rest_api.request:_parse_api_response:360 - [{'page': 2, 'per_page': 6, 'total': 12, 'total_pages': 2, 'data': [{'id': 7, 'email': 'michael.lawson@reqres.in', 'first_name': 'Michael', 'last_name': 'Lawson', 'avatar': 'https://reqres.in/img/faces/7-image.jpg'}, {'id': 8, 'email': 'lindsay.ferguson@reqres.in', 'first_name': 'Lindsay', 'last_name': 'Ferguson', 'avatar': 'https://reqres.in/img/faces/8-image.jpg'}, {'id': 9, 'email': 'tobias.funke@reqres.in', 'first_name': 'Tobias', 'last_name': 'Funke', 'avatar': 'https://reqres.in/img/faces/9-image.jpg'}, {'id': 10, 'email': 'byron.fields@reqres.in', 'first_name': 'Byron', 'last_name': 'Fields', 'avatar': 'https://reqres.in/img/faces/10-image.jpg'}, {'id': 11, 'email': 'george.edwards@reqres.in', 'first_name': 'George', 'last_name': 'Edwards', 'avatar': 'https://reqres.in/img/faces/11-image.jpg'}, {'id': 12, 'email': 'rachel.howell@reqres.in', 'first_name': 'Rachel', 'last_name': 'Howell', 'avatar': 'https://reqres.in/img/faces/12-image.jpg'}], 'support': {'url': 'https://reqres.in/#support-heading', 'text': 'To keep ReqRes free, contributions towards server costs are appreciated!'}}]\n"
     ]
    }
   ],
   "source": [
    "split_tables[\"root\"].show(truncate=False)"
   ]
  },
  {
   "cell_type": "code",
   "execution_count": 6,
   "metadata": {},
   "outputs": [
    {
     "name": "stderr",
     "output_type": "stream",
     "text": [
      "2023-08-17 16:49:17.965 | DEBUG    | pushcart.sources.rest_api.request:_update_url_and_params:202 - URL: https://reqres.in/api/users\n",
      "2023-08-17 16:49:17.965 | DEBUG    | pushcart.sources.rest_api.request:_update_url_and_params:203 - Parameters: {'page': '2'}\n",
      "2023-08-17 16:49:17.965 | INFO     | pushcart.sources.rest_api.request:_build_no_auth_client:110 - Using no authentication.\n",
      "2023-08-17 16:49:18.030 | DEBUG    | pushcart.sources.rest_api.request:_add_data_for_get_request:236 - Added JSON dump of data to GET request body.\n",
      "2023-08-17 16:49:18.114 | DEBUG    | pushcart.sources.rest_api.request:_parse_api_response:358 - Returning JSON response:\n",
      "2023-08-17 16:49:18.115 | DEBUG    | pushcart.sources.rest_api.request:_parse_api_response:360 - [{'page': 2, 'per_page': 6, 'total': 12, 'total_pages': 2, 'data': [{'id': 7, 'email': 'michael.lawson@reqres.in', 'first_name': 'Michael', 'last_name': 'Lawson', 'avatar': 'https://reqres.in/img/faces/7-image.jpg'}, {'id': 8, 'email': 'lindsay.ferguson@reqres.in', 'first_name': 'Lindsay', 'last_name': 'Ferguson', 'avatar': 'https://reqres.in/img/faces/8-image.jpg'}, {'id': 9, 'email': 'tobias.funke@reqres.in', 'first_name': 'Tobias', 'last_name': 'Funke', 'avatar': 'https://reqres.in/img/faces/9-image.jpg'}, {'id': 10, 'email': 'byron.fields@reqres.in', 'first_name': 'Byron', 'last_name': 'Fields', 'avatar': 'https://reqres.in/img/faces/10-image.jpg'}, {'id': 11, 'email': 'george.edwards@reqres.in', 'first_name': 'George', 'last_name': 'Edwards', 'avatar': 'https://reqres.in/img/faces/11-image.jpg'}, {'id': 12, 'email': 'rachel.howell@reqres.in', 'first_name': 'Rachel', 'last_name': 'Howell', 'avatar': 'https://reqres.in/img/faces/12-image.jpg'}], 'support': {'url': 'https://reqres.in/#support-heading', 'text': 'To keep ReqRes free, contributions towards server costs are appreciated!'}}]\n",
      "[Stage 8:=========================>                                 (3 + 4) / 7]\r"
     ]
    },
    {
     "name": "stdout",
     "output_type": "stream",
     "text": [
      "+----------------------------------------+----------+---------------------------------------------------------------------------------------------------------------------------------------------------------------------------------------------------------------------------------------------------------------------------------------------------------------------------------------------------------------------------------------------------------------------------------------------------------------------------------------------------------------------------------------------------------------------+\n",
      "|result_key                              |result_pos|result_col                                                                                                                                                                                                                                                                                                                                                                                                                                                                                                                                                           |\n",
      "+----------------------------------------+----------+---------------------------------------------------------------------------------------------------------------------------------------------------------------------------------------------------------------------------------------------------------------------------------------------------------------------------------------------------------------------------------------------------------------------------------------------------------------------------------------------------------------------------------------------------------------------+\n",
      "|dd4fb749e98bd6b3db6218a04a9b8e96b349b6d8|0         |{6, 12, 2, 2, [{Lawson, https://reqres.in/img/faces/7-image.jpg, 7, Michael, michael.lawson@reqres.in}, {Ferguson, https://reqres.in/img/faces/8-image.jpg, 8, Lindsay, lindsay.ferguson@reqres.in}, {Funke, https://reqres.in/img/faces/9-image.jpg, 9, Tobias, tobias.funke@reqres.in}, {Fields, https://reqres.in/img/faces/10-image.jpg, 10, Byron, byron.fields@reqres.in}, {Edwards, https://reqres.in/img/faces/11-image.jpg, 11, George, george.edwards@reqres.in}, {Howell, https://reqres.in/img/faces/12-image.jpg, 12, Rachel, rachel.howell@reqres.in}]}|\n",
      "+----------------------------------------+----------+---------------------------------------------------------------------------------------------------------------------------------------------------------------------------------------------------------------------------------------------------------------------------------------------------------------------------------------------------------------------------------------------------------------------------------------------------------------------------------------------------------------------------------------------------------------------+\n",
      "\n"
     ]
    },
    {
     "name": "stderr",
     "output_type": "stream",
     "text": [
      "2023-08-17 16:49:19.388 | DEBUG    | pushcart.sources.rest_api.request:_update_url_and_params:202 - URL: https://reqres.in/api/users\n",
      "2023-08-17 16:49:19.388 | DEBUG    | pushcart.sources.rest_api.request:_update_url_and_params:203 - Parameters: {'page': '2'}\n",
      "2023-08-17 16:49:19.388 | INFO     | pushcart.sources.rest_api.request:_build_no_auth_client:110 - Using no authentication.\n",
      "2023-08-17 16:49:19.412 | DEBUG    | pushcart.sources.rest_api.request:_add_data_for_get_request:236 - Added JSON dump of data to GET request body.\n",
      "2023-08-17 16:49:19.473 | DEBUG    | pushcart.sources.rest_api.request:_parse_api_response:358 - Returning JSON response:\n",
      "2023-08-17 16:49:19.473 | DEBUG    | pushcart.sources.rest_api.request:_parse_api_response:360 - [{'page': 2, 'per_page': 6, 'total': 12, 'total_pages': 2, 'data': [{'id': 7, 'email': 'michael.lawson@reqres.in', 'first_name': 'Michael', 'last_name': 'Lawson', 'avatar': 'https://reqres.in/img/faces/7-image.jpg'}, {'id': 8, 'email': 'lindsay.ferguson@reqres.in', 'first_name': 'Lindsay', 'last_name': 'Ferguson', 'avatar': 'https://reqres.in/img/faces/8-image.jpg'}, {'id': 9, 'email': 'tobias.funke@reqres.in', 'first_name': 'Tobias', 'last_name': 'Funke', 'avatar': 'https://reqres.in/img/faces/9-image.jpg'}, {'id': 10, 'email': 'byron.fields@reqres.in', 'first_name': 'Byron', 'last_name': 'Fields', 'avatar': 'https://reqres.in/img/faces/10-image.jpg'}, {'id': 11, 'email': 'george.edwards@reqres.in', 'first_name': 'George', 'last_name': 'Edwards', 'avatar': 'https://reqres.in/img/faces/11-image.jpg'}, {'id': 12, 'email': 'rachel.howell@reqres.in', 'first_name': 'Rachel', 'last_name': 'Howell', 'avatar': 'https://reqres.in/img/faces/12-image.jpg'}], 'support': {'url': 'https://reqres.in/#support-heading', 'text': 'To keep ReqRes free, contributions towards server costs are appreciated!'}}]\n",
      "                                                                                \r"
     ]
    }
   ],
   "source": [
    "split_tables[\"result\"].show(truncate=False)"
   ]
  },
  {
   "cell_type": "code",
   "execution_count": 7,
   "metadata": {},
   "outputs": [
    {
     "name": "stderr",
     "output_type": "stream",
     "text": [
      "\u001b[32m2023-08-17 16:49:19.552\u001b[0m | \u001b[1mINFO    \u001b[0m | \u001b[36mpushcart.transformations.split_nested.spark\u001b[0m:\u001b[36m_split_root\u001b[0m:\u001b[36m296\u001b[0m - \u001b[1mCreating dataframe to serve as base for splitting.\u001b[0m\n",
      "\u001b[32m2023-08-17 16:49:19.671\u001b[0m | \u001b[1mINFO    \u001b[0m | \u001b[36mpushcart.transformations.split_nested.spark\u001b[0m:\u001b[36m_create_split_table\u001b[0m:\u001b[36m254\u001b[0m - \u001b[1mSplitting column result_col from original dataframe.\u001b[0m\n",
      "\u001b[32m2023-08-17 16:49:19.797\u001b[0m | \u001b[1mINFO    \u001b[0m | \u001b[36mpushcart.transformations.split_nested.spark\u001b[0m:\u001b[36m_split_children\u001b[0m:\u001b[36m337\u001b[0m - \u001b[1mCreated split dataframe for result_col column.\u001b[0m\n",
      "\u001b[32m2023-08-17 16:49:19.813\u001b[0m | \u001b[1mINFO    \u001b[0m | \u001b[36mpushcart.transformations.split_nested.spark\u001b[0m:\u001b[36m_split_root\u001b[0m:\u001b[36m296\u001b[0m - \u001b[1mCreating dataframe to serve as base for splitting.\u001b[0m\n",
      "\u001b[32m2023-08-17 16:49:19.864\u001b[0m | \u001b[1mINFO    \u001b[0m | \u001b[36mpushcart.transformations.split_nested.spark\u001b[0m:\u001b[36m_create_split_table\u001b[0m:\u001b[36m254\u001b[0m - \u001b[1mSplitting column data from original dataframe.\u001b[0m\n",
      "\u001b[32m2023-08-17 16:49:19.920\u001b[0m | \u001b[1mINFO    \u001b[0m | \u001b[36mpushcart.transformations.split_nested.spark\u001b[0m:\u001b[36m_split_children\u001b[0m:\u001b[36m337\u001b[0m - \u001b[1mCreated split dataframe for data column.\u001b[0m\n",
      "2023-08-17 16:49:20.660 | DEBUG    | pushcart.sources.rest_api.request:_update_url_and_params:202 - URL: https://reqres.in/api/users\n",
      "2023-08-17 16:49:20.660 | DEBUG    | pushcart.sources.rest_api.request:_update_url_and_params:203 - Parameters: {'page': '2'}\n",
      "2023-08-17 16:49:20.661 | INFO     | pushcart.sources.rest_api.request:_build_no_auth_client:110 - Using no authentication.\n",
      "2023-08-17 16:49:20.716 | DEBUG    | pushcart.sources.rest_api.request:_add_data_for_get_request:236 - Added JSON dump of data to GET request body.\n",
      "2023-08-17 16:49:20.778 | DEBUG    | pushcart.sources.rest_api.request:_parse_api_response:358 - Returning JSON response:\n",
      "2023-08-17 16:49:20.778 | DEBUG    | pushcart.sources.rest_api.request:_parse_api_response:360 - [{'page': 2, 'per_page': 6, 'total': 12, 'total_pages': 2, 'data': [{'id': 7, 'email': 'michael.lawson@reqres.in', 'first_name': 'Michael', 'last_name': 'Lawson', 'avatar': 'https://reqres.in/img/faces/7-image.jpg'}, {'id': 8, 'email': 'lindsay.ferguson@reqres.in', 'first_name': 'Lindsay', 'last_name': 'Ferguson', 'avatar': 'https://reqres.in/img/faces/8-image.jpg'}, {'id': 9, 'email': 'tobias.funke@reqres.in', 'first_name': 'Tobias', 'last_name': 'Funke', 'avatar': 'https://reqres.in/img/faces/9-image.jpg'}, {'id': 10, 'email': 'byron.fields@reqres.in', 'first_name': 'Byron', 'last_name': 'Fields', 'avatar': 'https://reqres.in/img/faces/10-image.jpg'}, {'id': 11, 'email': 'george.edwards@reqres.in', 'first_name': 'George', 'last_name': 'Edwards', 'avatar': 'https://reqres.in/img/faces/11-image.jpg'}, {'id': 12, 'email': 'rachel.howell@reqres.in', 'first_name': 'Rachel', 'last_name': 'Howell', 'avatar': 'https://reqres.in/img/faces/12-image.jpg'}], 'support': {'url': 'https://reqres.in/#support-heading', 'text': 'To keep ReqRes free, contributions towards server costs are appreciated!'}}]\n",
      "2023-08-17 16:49:20.892 | DEBUG    | pushcart.sources.rest_api.request:_update_url_and_params:202 - URL: https://reqres.in/api/users\n",
      "2023-08-17 16:49:20.893 | DEBUG    | pushcart.sources.rest_api.request:_update_url_and_params:203 - Parameters: {'page': '2'}\n",
      "2023-08-17 16:49:20.894 | INFO     | pushcart.sources.rest_api.request:_build_no_auth_client:110 - Using no authentication.\n",
      "2023-08-17 16:49:20.964 | DEBUG    | pushcart.sources.rest_api.request:_add_data_for_get_request:236 - Added JSON dump of data to GET request body.\n",
      "2023-08-17 16:49:21.028 | DEBUG    | pushcart.sources.rest_api.request:_parse_api_response:358 - Returning JSON response:\n",
      "2023-08-17 16:49:21.028 | DEBUG    | pushcart.sources.rest_api.request:_parse_api_response:360 - [{'page': 2, 'per_page': 6, 'total': 12, 'total_pages': 2, 'data': [{'id': 7, 'email': 'michael.lawson@reqres.in', 'first_name': 'Michael', 'last_name': 'Lawson', 'avatar': 'https://reqres.in/img/faces/7-image.jpg'}, {'id': 8, 'email': 'lindsay.ferguson@reqres.in', 'first_name': 'Lindsay', 'last_name': 'Ferguson', 'avatar': 'https://reqres.in/img/faces/8-image.jpg'}, {'id': 9, 'email': 'tobias.funke@reqres.in', 'first_name': 'Tobias', 'last_name': 'Funke', 'avatar': 'https://reqres.in/img/faces/9-image.jpg'}, {'id': 10, 'email': 'byron.fields@reqres.in', 'first_name': 'Byron', 'last_name': 'Fields', 'avatar': 'https://reqres.in/img/faces/10-image.jpg'}, {'id': 11, 'email': 'george.edwards@reqres.in', 'first_name': 'George', 'last_name': 'Edwards', 'avatar': 'https://reqres.in/img/faces/11-image.jpg'}, {'id': 12, 'email': 'rachel.howell@reqres.in', 'first_name': 'Rachel', 'last_name': 'Howell', 'avatar': 'https://reqres.in/img/faces/12-image.jpg'}], 'support': {'url': 'https://reqres.in/#support-heading', 'text': 'To keep ReqRes free, contributions towards server costs are appreciated!'}}]\n",
      "[Stage 9:===============================================>         (10 + 2) / 12]\r"
     ]
    },
    {
     "name": "stdout",
     "output_type": "stream",
     "text": [
      "+----------------------------------------+--------+-------------------------------------------------------------------------------------------+\n",
      "|data_key                                |data_pos|data_col                                                                                   |\n",
      "+----------------------------------------+--------+-------------------------------------------------------------------------------------------+\n",
      "|28816157b5d87612c74d2a624d89841224209164|0       |{Lawson, https://reqres.in/img/faces/7-image.jpg, 7, Michael, michael.lawson@reqres.in}    |\n",
      "|28816157b5d87612c74d2a624d89841224209164|1       |{Ferguson, https://reqres.in/img/faces/8-image.jpg, 8, Lindsay, lindsay.ferguson@reqres.in}|\n",
      "|28816157b5d87612c74d2a624d89841224209164|2       |{Funke, https://reqres.in/img/faces/9-image.jpg, 9, Tobias, tobias.funke@reqres.in}        |\n",
      "|28816157b5d87612c74d2a624d89841224209164|3       |{Fields, https://reqres.in/img/faces/10-image.jpg, 10, Byron, byron.fields@reqres.in}      |\n",
      "|28816157b5d87612c74d2a624d89841224209164|4       |{Edwards, https://reqres.in/img/faces/11-image.jpg, 11, George, george.edwards@reqres.in}  |\n",
      "|28816157b5d87612c74d2a624d89841224209164|5       |{Howell, https://reqres.in/img/faces/12-image.jpg, 12, Rachel, rachel.howell@reqres.in}    |\n",
      "+----------------------------------------+--------+-------------------------------------------------------------------------------------------+\n",
      "\n"
     ]
    },
    {
     "name": "stderr",
     "output_type": "stream",
     "text": [
      "                                                                                \r"
     ]
    },
    {
     "name": "stderr",
     "output_type": "stream",
     "text": [
      "23/08/17 16:49:27 WARN GarbageCollectionMetrics: To enable non-built-in garbage collector(s) List(G1 Concurrent GC), users should configure it(them) to spark.eventLog.gcMetrics.youngGenerationGarbageCollectors or spark.eventLog.gcMetrics.oldGenerationGarbageCollectors\n"
     ]
    }
   ],
   "source": [
    "split_tables.update(ps.split(split_tables[\"result\"], [\"result_col\"]))\n",
    "split_tables.update(ps.split(split_tables[\"result_col\"], [\"data\"]))\n",
    "\n",
    "split_tables[\"data\"].show(truncate=False)\n"
   ]
  }
 ],
 "metadata": {
  "kernelspec": {
   "display_name": ".venv",
   "language": "python",
   "name": "python3"
  },
  "language_info": {
   "codemirror_mode": {
    "name": "ipython",
    "version": 3
   },
   "file_extension": ".py",
   "mimetype": "text/x-python",
   "name": "python",
   "nbconvert_exporter": "python",
   "pygments_lexer": "ipython3",
   "version": "3.9.17"
  },
  "orig_nbformat": 4
 },
 "nbformat": 4,
 "nbformat_minor": 2
}
