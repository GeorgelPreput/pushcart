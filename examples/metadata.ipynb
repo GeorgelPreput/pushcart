{
 "cells": [
  {
   "cell_type": "code",
   "execution_count": 4,
   "metadata": {},
   "outputs": [],
   "source": [
    "import dtale\n",
    "\n",
    "from pushcart.metadata import Metadata\n",
    "from pyspark.sql import SparkSession\n"
   ]
  },
  {
   "cell_type": "code",
   "execution_count": 2,
   "metadata": {},
   "outputs": [
    {
     "name": "stderr",
     "output_type": "stream",
     "text": [
      "23/07/28 17:16:25 WARN Utils: Your hostname, laptop resolves to a loopback address: 127.0.1.1; using 192.168.2.13 instead (on interface enp0s20f0u1u4u4)\n",
      "23/07/28 17:16:25 WARN Utils: Set SPARK_LOCAL_IP if you need to bind to another address\n",
      "Setting default log level to \"WARN\".\n",
      "To adjust logging level use sc.setLogLevel(newLevel). For SparkR, use setLogLevel(newLevel).\n",
      "23/07/28 17:16:26 WARN NativeCodeLoader: Unable to load native-hadoop library for your platform... using builtin-java classes where applicable\n"
     ]
    },
    {
     "name": "stdout",
     "output_type": "stream",
     "text": [
      "StructType([StructField('id', StringType(), True), StructField('ts', StringType(), True), StructField('payload', StringType(), True)])\n",
      "+---+--------------------+--------------------+\n",
      "| id|                  ts|             payload|\n",
      "+---+--------------------+--------------------+\n",
      "|  0|2023-07-13T17:26:...|{\"current_page\": ...|\n",
      "|  1|2023-07-13T17:27:...|{\"current_page\": ...|\n",
      "|  2|2023-07-13T17:27:...|{\"current_page\": ...|\n",
      "|  3|2023-07-13T17:27:...|{\"current_page\": ...|\n",
      "|  4|2023-07-13T17:27:...|{\"current_page\": ...|\n",
      "|  5|2023-07-13T17:27:...|{\"current_page\": ...|\n",
      "|  6|2023-07-13T17:27:...|{\"current_page\": ...|\n",
      "|  7|2023-07-13T17:27:...|{\"current_page\": ...|\n",
      "|  8|2023-07-13T17:27:...|{\"current_page\": ...|\n",
      "+---+--------------------+--------------------+\n",
      "\n"
     ]
    }
   ],
   "source": [
    "spark = SparkSession.builder.getOrCreate()\n",
    "\n",
    "df = (\n",
    "    spark.read.format(\"csv\")\n",
    "    .option(\"header\", \"true\")\n",
    "    .option(\"escape\", '\"')\n",
    "    .load(\"./dataset.csv\")\n",
    ")\n",
    "\n",
    "print(df.schema)\n",
    "df.show()\n"
   ]
  },
  {
   "cell_type": "code",
   "execution_count": 3,
   "metadata": {},
   "outputs": [
    {
     "name": "stderr",
     "output_type": "stream",
     "text": [
      "23/07/28 17:16:44 WARN GarbageCollectionMetrics: To enable non-built-in garbage collector(s) List(G1 Concurrent GC), users should configure it(them) to spark.eventLog.gcMetrics.youngGenerationGarbageCollectors or spark.eventLog.gcMetrics.oldGenerationGarbageCollectors\n"
     ]
    }
   ],
   "source": [
    "md = Metadata(df, infer_fraction=1.0)\n",
    "# md.get_metadata()"
   ]
  },
  {
   "cell_type": "code",
   "execution_count": null,
   "metadata": {},
   "outputs": [],
   "source": []
  },
  {
   "cell_type": "code",
   "execution_count": null,
   "metadata": {},
   "outputs": [],
   "source": [
    "# Edits are reflected in the underlying dataset\n",
    "md.metadata_df"
   ]
  },
  {
   "cell_type": "code",
   "execution_count": null,
   "metadata": {},
   "outputs": [],
   "source": [
    "code = md.generate_code()"
   ]
  },
  {
   "cell_type": "code",
   "execution_count": null,
   "metadata": {},
   "outputs": [],
   "source": [
    "import pyspark.sql.functions as F\n",
    "\n",
    "processed_df = (\n",
    "    df.withColumn(\"id\", F.col(\"id\").cast(\"int\"))\n",
    "    .withColumn(\"ts\", F.to_timestamp(F.col(\"ts\"), \"yyyy-MM-dd'T'HH:mm:ss.SSSSSS\"))\n",
    "    .withColumn(\n",
    "        \"payload\",\n",
    "        F.from_json(\n",
    "            F.col(\"payload\"),\n",
    "            schema=\"struct<current_page:bigint,data:array<struct<fact:string,length:bigint>>,first_page_url:string,from:bigint,last_page:bigint,last_page_url:string,links:array<struct<active:boolean,label:string,url:string>>,next_page_url:string,path:string,per_page:bigint,prev_page_url:string,to:bigint,total:bigint>\",\n",
    "        ),\n",
    "    )\n",
    "    .select([\"id\", \"ts\", \"payload\"])\n",
    ")\n",
    "\n",
    "print(processed_df.schema)\n",
    "processed_df.show()\n"
   ]
  },
  {
   "cell_type": "code",
   "execution_count": null,
   "metadata": {},
   "outputs": [],
   "source": [
    "nested_md = Metadata(processed_df, infer_fraction=1.0)\n",
    "nested_md.get_metadata()"
   ]
  },
  {
   "cell_type": "code",
   "execution_count": null,
   "metadata": {},
   "outputs": [],
   "source": [
    "flat_code = nested_md.generate_code()"
   ]
  },
  {
   "cell_type": "code",
   "execution_count": null,
   "metadata": {},
   "outputs": [],
   "source": [
    "flattened_df = (\n",
    "    processed_df.withColumn(\n",
    "        \"payload_current_page\", F.col(\"payload.current_page\").cast(\"bigint\")\n",
    "    )\n",
    "    .withColumn(\"payload_data\", F.explode(\"payload.data\"))\n",
    "    .withColumn(\"payload_data_fact\", F.col(\"payload_data.fact\").cast(\"string\"))\n",
    "    .withColumn(\"payload_data_length\", F.col(\"payload_data.length\").cast(\"bigint\"))\n",
    "    .withColumn(\n",
    "        \"payload_first_page_url\", F.col(\"payload.first_page_url\").cast(\"string\")\n",
    "    )\n",
    "    .withColumn(\"payload_from\", F.col(\"payload.from\").cast(\"bigint\"))\n",
    "    .withColumn(\"payload_last_page\", F.col(\"payload.last_page\").cast(\"bigint\"))\n",
    "    .withColumn(\"payload_last_page_url\", F.col(\"payload.last_page_url\").cast(\"string\"))\n",
    "    .withColumn(\"payload_links\", F.explode(\"payload.links\"))\n",
    "    .withColumn(\"payload_links_active\", F.col(\"payload_links.active\").cast(\"boolean\"))\n",
    "    .withColumn(\"payload_links_label\", F.col(\"payload_links.label\").cast(\"string\"))\n",
    "    .withColumn(\"payload_links_url\", F.col(\"payload_links.url\").cast(\"string\"))\n",
    "    .withColumn(\"payload_next_page_url\", F.col(\"payload.next_page_url\").cast(\"string\"))\n",
    "    .withColumn(\"payload_path\", F.col(\"payload.path\").cast(\"string\"))\n",
    "    .withColumn(\"payload_per_page\", F.col(\"payload.per_page\").cast(\"bigint\"))\n",
    "    .withColumn(\"payload_prev_page_url\", F.col(\"payload.prev_page_url\").cast(\"string\"))\n",
    "    .withColumn(\"payload_to\", F.col(\"payload.to\").cast(\"bigint\"))\n",
    "    .withColumn(\"payload_total\", F.col(\"payload.total\").cast(\"bigint\"))\n",
    "    .select(\n",
    "        [\n",
    "            \"id\",\n",
    "            \"ts\",\n",
    "            \"payload_current_page\",\n",
    "            \"payload_data\",\n",
    "            \"payload_data_fact\",\n",
    "            \"payload_data_length\",\n",
    "            \"payload_first_page_url\",\n",
    "            \"payload_from\",\n",
    "            \"payload_last_page\",\n",
    "            \"payload_last_page_url\",\n",
    "            \"payload_links\",\n",
    "            \"payload_links_active\",\n",
    "            \"payload_links_label\",\n",
    "            \"payload_links_url\",\n",
    "            \"payload_next_page_url\",\n",
    "            \"payload_path\",\n",
    "            \"payload_per_page\",\n",
    "            \"payload_prev_page_url\",\n",
    "            \"payload_to\",\n",
    "            \"payload_total\",\n",
    "        ]\n",
    "    )\n",
    ")\n",
    "\n",
    "flattened_df.show()\n"
   ]
  }
 ],
 "metadata": {
  "kernelspec": {
   "display_name": ".venv",
   "language": "python",
   "name": "python3"
  },
  "language_info": {
   "codemirror_mode": {
    "name": "ipython",
    "version": 3
   },
   "file_extension": ".py",
   "mimetype": "text/x-python",
   "name": "python",
   "nbconvert_exporter": "python",
   "pygments_lexer": "ipython3",
   "version": "3.11.3"
  },
  "orig_nbformat": 4
 },
 "nbformat": 4,
 "nbformat_minor": 2
}
