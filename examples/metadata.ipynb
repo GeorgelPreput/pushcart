{
 "cells": [
  {
   "cell_type": "code",
   "execution_count": 7,
   "metadata": {},
   "outputs": [],
   "source": [
    "import json\n",
    "import requests\n",
    "\n",
    "import pandas as pd\n",
    "\n",
    "from datetime import datetime\n",
    "from random import randint\n",
    "from time import sleep\n"
   ]
  },
  {
   "cell_type": "code",
   "execution_count": null,
   "metadata": {},
   "outputs": [],
   "source": [
    "data = []\n",
    "\n",
    "for page in range(1, 10):\n",
    "    ts = datetime.now().isoformat()\n",
    "    payload = json.dumps(\n",
    "        requests.get(url=\"https://catfact.ninja/facts\", params={\"page\": page}).json()\n",
    "    )\n",
    "\n",
    "    data.append({\"ts\": ts, \"payload\": payload})\n",
    "\n",
    "    sleep(randint(1, 5))"
   ]
  },
  {
   "cell_type": "code",
   "execution_count": 14,
   "metadata": {},
   "outputs": [
    {
     "data": {
      "text/html": [
       "<div>\n",
       "<style scoped>\n",
       "    .dataframe tbody tr th:only-of-type {\n",
       "        vertical-align: middle;\n",
       "    }\n",
       "\n",
       "    .dataframe tbody tr th {\n",
       "        vertical-align: top;\n",
       "    }\n",
       "\n",
       "    .dataframe thead th {\n",
       "        text-align: right;\n",
       "    }\n",
       "</style>\n",
       "<table border=\"1\" class=\"dataframe\">\n",
       "  <thead>\n",
       "    <tr style=\"text-align: right;\">\n",
       "      <th></th>\n",
       "      <th>ts</th>\n",
       "      <th>payload</th>\n",
       "    </tr>\n",
       "  </thead>\n",
       "  <tbody>\n",
       "    <tr>\n",
       "      <th>0</th>\n",
       "      <td>2023-07-13T17:26:59.345122</td>\n",
       "      <td>{\"current_page\": 1, \"data\": [{\"fact\": \"Unlike ...</td>\n",
       "    </tr>\n",
       "    <tr>\n",
       "      <th>1</th>\n",
       "      <td>2023-07-13T17:27:01.746471</td>\n",
       "      <td>{\"current_page\": 2, \"data\": [{\"fact\": \"During ...</td>\n",
       "    </tr>\n",
       "    <tr>\n",
       "      <th>2</th>\n",
       "      <td>2023-07-13T17:27:05.066221</td>\n",
       "      <td>{\"current_page\": 3, \"data\": [{\"fact\": \"A cat c...</td>\n",
       "    </tr>\n",
       "    <tr>\n",
       "      <th>3</th>\n",
       "      <td>2023-07-13T17:27:07.392719</td>\n",
       "      <td>{\"current_page\": 4, \"data\": [{\"fact\": \"A cat\\u...</td>\n",
       "    </tr>\n",
       "    <tr>\n",
       "      <th>4</th>\n",
       "      <td>2023-07-13T17:27:12.699642</td>\n",
       "      <td>{\"current_page\": 5, \"data\": [{\"fact\": \"A cat c...</td>\n",
       "    </tr>\n",
       "    <tr>\n",
       "      <th>5</th>\n",
       "      <td>2023-07-13T17:27:16.992408</td>\n",
       "      <td>{\"current_page\": 6, \"data\": [{\"fact\": \"In the ...</td>\n",
       "    </tr>\n",
       "    <tr>\n",
       "      <th>6</th>\n",
       "      <td>2023-07-13T17:27:19.372787</td>\n",
       "      <td>{\"current_page\": 7, \"data\": [{\"fact\": \"All cat...</td>\n",
       "    </tr>\n",
       "    <tr>\n",
       "      <th>7</th>\n",
       "      <td>2023-07-13T17:27:21.721222</td>\n",
       "      <td>{\"current_page\": 8, \"data\": [{\"fact\": \"Approxi...</td>\n",
       "    </tr>\n",
       "    <tr>\n",
       "      <th>8</th>\n",
       "      <td>2023-07-13T17:27:26.052877</td>\n",
       "      <td>{\"current_page\": 9, \"data\": [{\"fact\": \"A cat\\u...</td>\n",
       "    </tr>\n",
       "  </tbody>\n",
       "</table>\n",
       "</div>"
      ],
      "text/plain": [
       "                           ts  \\\n",
       "0  2023-07-13T17:26:59.345122   \n",
       "1  2023-07-13T17:27:01.746471   \n",
       "2  2023-07-13T17:27:05.066221   \n",
       "3  2023-07-13T17:27:07.392719   \n",
       "4  2023-07-13T17:27:12.699642   \n",
       "5  2023-07-13T17:27:16.992408   \n",
       "6  2023-07-13T17:27:19.372787   \n",
       "7  2023-07-13T17:27:21.721222   \n",
       "8  2023-07-13T17:27:26.052877   \n",
       "\n",
       "                                             payload  \n",
       "0  {\"current_page\": 1, \"data\": [{\"fact\": \"Unlike ...  \n",
       "1  {\"current_page\": 2, \"data\": [{\"fact\": \"During ...  \n",
       "2  {\"current_page\": 3, \"data\": [{\"fact\": \"A cat c...  \n",
       "3  {\"current_page\": 4, \"data\": [{\"fact\": \"A cat\\u...  \n",
       "4  {\"current_page\": 5, \"data\": [{\"fact\": \"A cat c...  \n",
       "5  {\"current_page\": 6, \"data\": [{\"fact\": \"In the ...  \n",
       "6  {\"current_page\": 7, \"data\": [{\"fact\": \"All cat...  \n",
       "7  {\"current_page\": 8, \"data\": [{\"fact\": \"Approxi...  \n",
       "8  {\"current_page\": 9, \"data\": [{\"fact\": \"A cat\\u...  "
      ]
     },
     "execution_count": 14,
     "metadata": {},
     "output_type": "execute_result"
    }
   ],
   "source": [
    "pdf = pd.DataFrame(data=data)\n",
    "pdf\n"
   ]
  },
  {
   "cell_type": "code",
   "execution_count": 15,
   "metadata": {},
   "outputs": [],
   "source": [
    "pdf.to_csv(\"./dataset.csv\", index_label=\"id\")\n"
   ]
  },
  {
   "cell_type": "code",
   "execution_count": 1,
   "metadata": {},
   "outputs": [
    {
     "name": "stderr",
     "output_type": "stream",
     "text": [
      "23/07/13 23:39:08 WARN Utils: Your hostname, laptop resolves to a loopback address: 127.0.1.1; using 192.168.2.5 instead (on interface wlan0)\n",
      "23/07/13 23:39:08 WARN Utils: Set SPARK_LOCAL_IP if you need to bind to another address\n",
      "Setting default log level to \"WARN\".\n",
      "To adjust logging level use sc.setLogLevel(newLevel). For SparkR, use setLogLevel(newLevel).\n",
      "23/07/13 23:39:08 WARN NativeCodeLoader: Unable to load native-hadoop library for your platform... using builtin-java classes where applicable\n",
      "23/07/13 23:39:09 WARN Utils: Service 'SparkUI' could not bind on port 4040. Attempting port 4041.\n"
     ]
    },
    {
     "name": "stdout",
     "output_type": "stream",
     "text": [
      "StructType([StructField('id', StringType(), True), StructField('ts', StringType(), True), StructField('payload', StringType(), True)])\n",
      "+---+--------------------+--------------------+\n",
      "| id|                  ts|             payload|\n",
      "+---+--------------------+--------------------+\n",
      "|  0|2023-07-13T17:26:...|{\"current_page\": ...|\n",
      "|  1|2023-07-13T17:27:...|{\"current_page\": ...|\n",
      "|  2|2023-07-13T17:27:...|{\"current_page\": ...|\n",
      "|  3|2023-07-13T17:27:...|{\"current_page\": ...|\n",
      "|  4|2023-07-13T17:27:...|{\"current_page\": ...|\n",
      "|  5|2023-07-13T17:27:...|{\"current_page\": ...|\n",
      "|  6|2023-07-13T17:27:...|{\"current_page\": ...|\n",
      "|  7|2023-07-13T17:27:...|{\"current_page\": ...|\n",
      "|  8|2023-07-13T17:27:...|{\"current_page\": ...|\n",
      "+---+--------------------+--------------------+\n",
      "\n"
     ]
    }
   ],
   "source": [
    "from pyspark.sql import SparkSession\n",
    "\n",
    "spark = SparkSession.builder.getOrCreate()\n",
    "\n",
    "df = (\n",
    "    spark.read.format(\"csv\")\n",
    "    .option(\"header\", \"true\")\n",
    "    .option(\"escape\", '\"')\n",
    "    .load(\"./dataset.csv\")\n",
    ")\n",
    "\n",
    "print(df.schema)\n",
    "df.show()"
   ]
  },
  {
   "cell_type": "code",
   "execution_count": 2,
   "metadata": {},
   "outputs": [
    {
     "name": "stderr",
     "output_type": "stream",
     "text": [
      "INFO:pushcart.metadata:Attempting to infer timestamp format for id column.\n",
      "WARNING:pushcart.metadata:Could not infer timestamp format for id column.\n",
      "INFO:pushcart.metadata:Attempting to infer JSON schema for id column.\n",
      "WARNING:pushcart.metadata:Could not infer JSON schema for id column.\n",
      "INFO:pushcart.metadata:Attempting to infer timestamp format for ts column.\n",
      "INFO:pushcart.metadata:Attempting to infer timestamp format for payload column.\n",
      "WARNING:pushcart.metadata:Could not infer timestamp format for payload column.\n",
      "INFO:pushcart.metadata:Attempting to infer JSON schema for payload column.\n"
     ]
    },
    {
     "data": {
      "application/vnd.jupyter.widget-view+json": {
       "model_id": "b2c5e8d8bd7a4ef4858cab4931dda89f",
       "version_major": 2,
       "version_minor": 0
      },
      "text/plain": [
       "DataGrid(auto_fit_columns=True, auto_fit_params={'area': 'all'}, corner_renderer=None, default_renderer=TextRe…"
      ]
     },
     "metadata": {},
     "output_type": "display_data"
    }
   ],
   "source": [
    "from pushcart.metadata import Metadata\n",
    "\n",
    "md = Metadata(df, infer_fraction=1.0)\n",
    "md.get_metadata()\n"
   ]
  },
  {
   "cell_type": "code",
   "execution_count": 3,
   "metadata": {},
   "outputs": [
    {
     "data": {
      "text/html": [
       "<div>\n",
       "<style scoped>\n",
       "    .dataframe tbody tr th:only-of-type {\n",
       "        vertical-align: middle;\n",
       "    }\n",
       "\n",
       "    .dataframe tbody tr th {\n",
       "        vertical-align: top;\n",
       "    }\n",
       "\n",
       "    .dataframe thead th {\n",
       "        text-align: right;\n",
       "    }\n",
       "</style>\n",
       "<table border=\"1\" class=\"dataframe\">\n",
       "  <thead>\n",
       "    <tr style=\"text-align: right;\">\n",
       "      <th></th>\n",
       "      <th>column_order</th>\n",
       "      <th>source_column_name</th>\n",
       "      <th>source_column_type</th>\n",
       "      <th>dest_column_name</th>\n",
       "      <th>dest_column_type</th>\n",
       "      <th>transform_function</th>\n",
       "      <th>default_value</th>\n",
       "      <th>validation_rule</th>\n",
       "      <th>validation_action</th>\n",
       "    </tr>\n",
       "    <tr>\n",
       "      <th>key</th>\n",
       "      <th></th>\n",
       "      <th></th>\n",
       "      <th></th>\n",
       "      <th></th>\n",
       "      <th></th>\n",
       "      <th></th>\n",
       "      <th></th>\n",
       "      <th></th>\n",
       "      <th></th>\n",
       "    </tr>\n",
       "  </thead>\n",
       "  <tbody>\n",
       "    <tr>\n",
       "      <th>0</th>\n",
       "      <td>0</td>\n",
       "      <td>id</td>\n",
       "      <td>string</td>\n",
       "      <td>id</td>\n",
       "      <td>int</td>\n",
       "      <td></td>\n",
       "      <td></td>\n",
       "      <td></td>\n",
       "      <td></td>\n",
       "    </tr>\n",
       "    <tr>\n",
       "      <th>1</th>\n",
       "      <td>1</td>\n",
       "      <td>ts</td>\n",
       "      <td>string</td>\n",
       "      <td>ts</td>\n",
       "      <td>string</td>\n",
       "      <td>F.to_timestamp(F.col(\"ts\"), \"yyyy-MM-dd'T'HH:m...</td>\n",
       "      <td></td>\n",
       "      <td></td>\n",
       "      <td></td>\n",
       "    </tr>\n",
       "    <tr>\n",
       "      <th>2</th>\n",
       "      <td>2</td>\n",
       "      <td>payload</td>\n",
       "      <td>string</td>\n",
       "      <td>payload</td>\n",
       "      <td>string</td>\n",
       "      <td>F.from_json(F.col(\"payload\"), schema=\"struct&lt;c...</td>\n",
       "      <td></td>\n",
       "      <td></td>\n",
       "      <td></td>\n",
       "    </tr>\n",
       "  </tbody>\n",
       "</table>\n",
       "</div>"
      ],
      "text/plain": [
       "     column_order source_column_name source_column_type dest_column_name  \\\n",
       "key                                                                        \n",
       "0               0                 id             string               id   \n",
       "1               1                 ts             string               ts   \n",
       "2               2            payload             string          payload   \n",
       "\n",
       "    dest_column_type                                 transform_function  \\\n",
       "key                                                                       \n",
       "0                int                                                      \n",
       "1             string  F.to_timestamp(F.col(\"ts\"), \"yyyy-MM-dd'T'HH:m...   \n",
       "2             string  F.from_json(F.col(\"payload\"), schema=\"struct<c...   \n",
       "\n",
       "    default_value validation_rule validation_action  \n",
       "key                                                  \n",
       "0                                                    \n",
       "1                                                    \n",
       "2                                                    "
      ]
     },
     "execution_count": 3,
     "metadata": {},
     "output_type": "execute_result"
    }
   ],
   "source": [
    "# Edits are reflected in the underlying dataset\n",
    "md.metadata_df\n"
   ]
  },
  {
   "cell_type": "code",
   "execution_count": 4,
   "metadata": {},
   "outputs": [
    {
     "name": "stderr",
     "output_type": "stream",
     "text": [
      "INFO:pushcart.metadata:Excluding technical columns: None\n",
      "INFO:pushcart.metadata:\n",
      "df = (df\n",
      "\t.withColumn(\"id\", F.col(\"id\").cast(\"int\"))\n",
      "\t.withColumn(\"ts\", F.to_timestamp(F.col(\"ts\"), \"yyyy-MM-dd'T'HH:mm:ss.SSSSSS\"))\n",
      "\t.withColumn(\"payload\", F.from_json(F.col(\"payload\"), schema=\"struct<current_page:bigint,data:array<struct<fact:string,length:bigint>>,first_page_url:string,from:bigint,last_page:bigint,last_page_url:string,links:array<struct<active:boolean,label:string,url:string>>,next_page_url:string,path:string,per_page:bigint,prev_page_url:string,to:bigint,total:bigint>\"))\n",
      "\t.select(['id', 'ts', 'payload']))\n"
     ]
    },
    {
     "name": "stderr",
     "output_type": "stream",
     "text": [
      "23/07/13 23:39:24 WARN GarbageCollectionMetrics: To enable non-built-in garbage collector(s) List(G1 Concurrent GC), users should configure it(them) to spark.eventLog.gcMetrics.youngGenerationGarbageCollectors or spark.eventLog.gcMetrics.oldGenerationGarbageCollectors\n"
     ]
    }
   ],
   "source": [
    "code = md.generate_code()\n"
   ]
  },
  {
   "cell_type": "code",
   "execution_count": 5,
   "metadata": {},
   "outputs": [
    {
     "name": "stdout",
     "output_type": "stream",
     "text": [
      "StructType([StructField('id', IntegerType(), True), StructField('ts', TimestampType(), True), StructField('payload', StructType([StructField('current_page', LongType(), True), StructField('data', ArrayType(StructType([StructField('fact', StringType(), True), StructField('length', LongType(), True)]), True), True), StructField('first_page_url', StringType(), True), StructField('from', LongType(), True), StructField('last_page', LongType(), True), StructField('last_page_url', StringType(), True), StructField('links', ArrayType(StructType([StructField('active', BooleanType(), True), StructField('label', StringType(), True), StructField('url', StringType(), True)]), True), True), StructField('next_page_url', StringType(), True), StructField('path', StringType(), True), StructField('per_page', LongType(), True), StructField('prev_page_url', StringType(), True), StructField('to', LongType(), True), StructField('total', LongType(), True)]), True)])\n",
      "+---+--------------------+--------------------+\n",
      "| id|                  ts|             payload|\n",
      "+---+--------------------+--------------------+\n",
      "|  0|2023-07-13 17:26:...|{1, [{Unlike dogs...|\n",
      "|  1|2023-07-13 17:27:...|{2, [{During the ...|\n",
      "|  2|2023-07-13 17:27:...|{3, [{A cat can t...|\n",
      "|  3|2023-07-13 17:27:...|{4, [{A cat’s bra...|\n",
      "|  4|2023-07-13 17:27:...|{5, [{A cat can j...|\n",
      "|  5|2023-07-13 17:27:...|{6, [{In the orig...|\n",
      "|  6|2023-07-13 17:27:...|{7, [{All cats ha...|\n",
      "|  7|2023-07-13 17:27:...|{8, [{Approximate...|\n",
      "|  8|2023-07-13 17:27:...|{9, [{A cat’s nos...|\n",
      "+---+--------------------+--------------------+\n",
      "\n"
     ]
    }
   ],
   "source": [
    "import pyspark.sql.functions as F\n",
    "\n",
    "processed_df = (\n",
    "    df.withColumn(\"id\", F.col(\"id\").cast(\"int\"))\n",
    "    .withColumn(\"ts\", F.to_timestamp(F.col(\"ts\"), \"yyyy-MM-dd'T'HH:mm:ss.SSSSSS\"))\n",
    "    .withColumn(\n",
    "        \"payload\",\n",
    "        F.from_json(\n",
    "            F.col(\"payload\"),\n",
    "            schema=\"struct<current_page:bigint,data:array<struct<fact:string,length:bigint>>,first_page_url:string,from:bigint,last_page:bigint,last_page_url:string,links:array<struct<active:boolean,label:string,url:string>>,next_page_url:string,path:string,per_page:bigint,prev_page_url:string,to:bigint,total:bigint>\",\n",
    "        ),\n",
    "    )\n",
    "    .select([\"id\", \"ts\", \"payload\"])\n",
    ")\n",
    "\n",
    "print(processed_df.schema)\n",
    "processed_df.show()"
   ]
  },
  {
   "cell_type": "code",
   "execution_count": 6,
   "metadata": {},
   "outputs": [
    {
     "name": "stderr",
     "output_type": "stream",
     "text": [
      "INFO:pushcart.metadata:Attempting to infer timestamp format for payload.data.fact column.\n",
      "WARNING:pushcart.metadata:Could not infer timestamp format for payload.data.fact column.\n",
      "INFO:pushcart.metadata:Attempting to infer JSON schema for payload.data.fact column.\n",
      "WARNING:pushcart.metadata:Could not infer JSON schema for payload.data.fact column.\n",
      "INFO:pushcart.metadata:Attempting to infer timestamp format for payload.first_page_url column.\n",
      "WARNING:pushcart.metadata:Could not infer timestamp format for payload.first_page_url column.\n",
      "INFO:pushcart.metadata:Attempting to infer JSON schema for payload.first_page_url column.\n",
      "WARNING:pushcart.metadata:Could not infer JSON schema for payload.first_page_url column.\n",
      "INFO:pushcart.metadata:Attempting to infer timestamp format for payload.last_page_url column.\n",
      "WARNING:pushcart.metadata:Could not infer timestamp format for payload.last_page_url column.\n",
      "INFO:pushcart.metadata:Attempting to infer JSON schema for payload.last_page_url column.\n",
      "WARNING:pushcart.metadata:Could not infer JSON schema for payload.last_page_url column.\n",
      "INFO:pushcart.metadata:Attempting to infer timestamp format for payload.links.label column.\n",
      "WARNING:pushcart.metadata:Could not infer timestamp format for payload.links.label column.\n",
      "INFO:pushcart.metadata:Attempting to infer JSON schema for payload.links.label column.\n",
      "WARNING:pushcart.metadata:Could not infer JSON schema for payload.links.label column.\n",
      "INFO:pushcart.metadata:Attempting to infer timestamp format for payload.links.url column.\n",
      "WARNING:pushcart.metadata:Could not infer timestamp format for payload.links.url column.\n",
      "INFO:pushcart.metadata:Attempting to infer JSON schema for payload.links.url column.\n",
      "WARNING:pushcart.metadata:Could not infer JSON schema for payload.links.url column.\n",
      "INFO:pushcart.metadata:Attempting to infer timestamp format for payload.next_page_url column.\n",
      "WARNING:pushcart.metadata:Could not infer timestamp format for payload.next_page_url column.\n",
      "INFO:pushcart.metadata:Attempting to infer JSON schema for payload.next_page_url column.\n",
      "WARNING:pushcart.metadata:Could not infer JSON schema for payload.next_page_url column.\n",
      "INFO:pushcart.metadata:Attempting to infer timestamp format for payload.path column.\n",
      "WARNING:pushcart.metadata:Could not infer timestamp format for payload.path column.\n",
      "INFO:pushcart.metadata:Attempting to infer JSON schema for payload.path column.\n",
      "WARNING:pushcart.metadata:Could not infer JSON schema for payload.path column.\n",
      "INFO:pushcart.metadata:Attempting to infer timestamp format for payload.prev_page_url column.\n",
      "WARNING:pushcart.metadata:Could not infer timestamp format for payload.prev_page_url column.\n",
      "INFO:pushcart.metadata:Attempting to infer JSON schema for payload.prev_page_url column.\n",
      "WARNING:pushcart.metadata:Could not infer JSON schema for payload.prev_page_url column.\n"
     ]
    },
    {
     "data": {
      "application/vnd.jupyter.widget-view+json": {
       "model_id": "b52c7a7428164e86bf221b79de066816",
       "version_major": 2,
       "version_minor": 0
      },
      "text/plain": [
       "DataGrid(auto_fit_columns=True, auto_fit_params={'area': 'all'}, corner_renderer=None, default_renderer=TextRe…"
      ]
     },
     "metadata": {},
     "output_type": "display_data"
    }
   ],
   "source": [
    "nested_md = Metadata(processed_df, infer_fraction=1.0)\n",
    "nested_md.get_metadata()\n"
   ]
  },
  {
   "cell_type": "code",
   "execution_count": 7,
   "metadata": {},
   "outputs": [
    {
     "name": "stderr",
     "output_type": "stream",
     "text": [
      "INFO:pushcart.metadata:Excluding technical columns: None\n",
      "INFO:pushcart.metadata:\n",
      "df = (df\n",
      "\t.withColumn(\"payload_current_page\", F.col(\"payload.current_page\").cast(\"bigint\"))\n",
      "\t.withColumn(\"payload_data\", F.explode(\"payload.data\"))\n",
      "\t.withColumn(\"payload_data_fact\", F.col(\"payload_data.fact\").cast(\"string\"))\n",
      "\t.withColumn(\"payload_data_length\", F.col(\"payload_data.length\").cast(\"bigint\"))\n",
      "\t.withColumn(\"payload_first_page_url\", F.col(\"payload.first_page_url\").cast(\"string\"))\n",
      "\t.withColumn(\"payload_from\", F.col(\"payload.from\").cast(\"bigint\"))\n",
      "\t.withColumn(\"payload_last_page\", F.col(\"payload.last_page\").cast(\"bigint\"))\n",
      "\t.withColumn(\"payload_last_page_url\", F.col(\"payload.last_page_url\").cast(\"string\"))\n",
      "\t.withColumn(\"payload_links\", F.explode(\"payload.links\"))\n",
      "\t.withColumn(\"payload_links_active\", F.col(\"payload_links.active\").cast(\"boolean\"))\n",
      "\t.withColumn(\"payload_links_label\", F.col(\"payload_links.label\").cast(\"string\"))\n",
      "\t.withColumn(\"payload_links_url\", F.col(\"payload_links.url\").cast(\"string\"))\n",
      "\t.withColumn(\"payload_next_page_url\", F.col(\"payload.next_page_url\").cast(\"string\"))\n",
      "\t.withColumn(\"payload_path\", F.col(\"payload.path\").cast(\"string\"))\n",
      "\t.withColumn(\"payload_per_page\", F.col(\"payload.per_page\").cast(\"bigint\"))\n",
      "\t.withColumn(\"payload_prev_page_url\", F.col(\"payload.prev_page_url\").cast(\"string\"))\n",
      "\t.withColumn(\"payload_to\", F.col(\"payload.to\").cast(\"bigint\"))\n",
      "\t.withColumn(\"payload_total\", F.col(\"payload.total\").cast(\"bigint\"))\n",
      "\t.select(['id', 'ts', 'payload_current_page', 'payload_data', 'payload_data_fact', 'payload_data_length', 'payload_first_page_url', 'payload_from', 'payload_last_page', 'payload_last_page_url', 'payload_links', 'payload_links_active', 'payload_links_label', 'payload_links_url', 'payload_next_page_url', 'payload_path', 'payload_per_page', 'payload_prev_page_url', 'payload_to', 'payload_total']))\n"
     ]
    }
   ],
   "source": [
    "flat_code = nested_md.generate_code()\n"
   ]
  },
  {
   "cell_type": "code",
   "execution_count": 8,
   "metadata": {},
   "outputs": [
    {
     "name": "stdout",
     "output_type": "stream",
     "text": [
      "+---+--------------------+--------------------+--------------------+--------------------+-------------------+----------------------+------------+-----------------+---------------------+--------------------+--------------------+-------------------+--------------------+---------------------+--------------------+----------------+---------------------+----------+-------------+\n",
      "| id|                  ts|payload_current_page|        payload_data|   payload_data_fact|payload_data_length|payload_first_page_url|payload_from|payload_last_page|payload_last_page_url|       payload_links|payload_links_active|payload_links_label|   payload_links_url|payload_next_page_url|        payload_path|payload_per_page|payload_prev_page_url|payload_to|payload_total|\n",
      "+---+--------------------+--------------------+--------------------+--------------------+-------------------+----------------------+------------+-----------------+---------------------+--------------------+--------------------+-------------------+--------------------+---------------------+--------------------+----------------+---------------------+----------+-------------+\n",
      "|  0|2023-07-13 17:26:...|                   1|{Unlike dogs, cat...|Unlike dogs, cats...|                114|  https://catfact.n...|           1|               34| https://catfact.n...|{false, Previous,...|               false|           Previous|                null| https://catfact.n...|https://catfact.n...|              10|                 null|        10|          332|\n",
      "|  0|2023-07-13 17:26:...|                   1|{Unlike dogs, cat...|Unlike dogs, cats...|                114|  https://catfact.n...|           1|               34| https://catfact.n...|{true, 1, https:/...|                true|                  1|https://catfact.n...| https://catfact.n...|https://catfact.n...|              10|                 null|        10|          332|\n",
      "|  0|2023-07-13 17:26:...|                   1|{Unlike dogs, cat...|Unlike dogs, cats...|                114|  https://catfact.n...|           1|               34| https://catfact.n...|{false, 2, https:...|               false|                  2|https://catfact.n...| https://catfact.n...|https://catfact.n...|              10|                 null|        10|          332|\n",
      "|  0|2023-07-13 17:26:...|                   1|{Unlike dogs, cat...|Unlike dogs, cats...|                114|  https://catfact.n...|           1|               34| https://catfact.n...|{false, 3, https:...|               false|                  3|https://catfact.n...| https://catfact.n...|https://catfact.n...|              10|                 null|        10|          332|\n",
      "|  0|2023-07-13 17:26:...|                   1|{Unlike dogs, cat...|Unlike dogs, cats...|                114|  https://catfact.n...|           1|               34| https://catfact.n...|{false, 4, https:...|               false|                  4|https://catfact.n...| https://catfact.n...|https://catfact.n...|              10|                 null|        10|          332|\n",
      "|  0|2023-07-13 17:26:...|                   1|{Unlike dogs, cat...|Unlike dogs, cats...|                114|  https://catfact.n...|           1|               34| https://catfact.n...|{false, 5, https:...|               false|                  5|https://catfact.n...| https://catfact.n...|https://catfact.n...|              10|                 null|        10|          332|\n",
      "|  0|2023-07-13 17:26:...|                   1|{Unlike dogs, cat...|Unlike dogs, cats...|                114|  https://catfact.n...|           1|               34| https://catfact.n...|{false, 6, https:...|               false|                  6|https://catfact.n...| https://catfact.n...|https://catfact.n...|              10|                 null|        10|          332|\n",
      "|  0|2023-07-13 17:26:...|                   1|{Unlike dogs, cat...|Unlike dogs, cats...|                114|  https://catfact.n...|           1|               34| https://catfact.n...|{false, 7, https:...|               false|                  7|https://catfact.n...| https://catfact.n...|https://catfact.n...|              10|                 null|        10|          332|\n",
      "|  0|2023-07-13 17:26:...|                   1|{Unlike dogs, cat...|Unlike dogs, cats...|                114|  https://catfact.n...|           1|               34| https://catfact.n...|{false, 8, https:...|               false|                  8|https://catfact.n...| https://catfact.n...|https://catfact.n...|              10|                 null|        10|          332|\n",
      "|  0|2023-07-13 17:26:...|                   1|{Unlike dogs, cat...|Unlike dogs, cats...|                114|  https://catfact.n...|           1|               34| https://catfact.n...|{false, 9, https:...|               false|                  9|https://catfact.n...| https://catfact.n...|https://catfact.n...|              10|                 null|        10|          332|\n",
      "|  0|2023-07-13 17:26:...|                   1|{Unlike dogs, cat...|Unlike dogs, cats...|                114|  https://catfact.n...|           1|               34| https://catfact.n...|{false, 10, https...|               false|                 10|https://catfact.n...| https://catfact.n...|https://catfact.n...|              10|                 null|        10|          332|\n",
      "|  0|2023-07-13 17:26:...|                   1|{Unlike dogs, cat...|Unlike dogs, cats...|                114|  https://catfact.n...|           1|               34| https://catfact.n...|  {false, ..., null}|               false|                ...|                null| https://catfact.n...|https://catfact.n...|              10|                 null|        10|          332|\n",
      "|  0|2023-07-13 17:26:...|                   1|{Unlike dogs, cat...|Unlike dogs, cats...|                114|  https://catfact.n...|           1|               34| https://catfact.n...|{false, 33, https...|               false|                 33|https://catfact.n...| https://catfact.n...|https://catfact.n...|              10|                 null|        10|          332|\n",
      "|  0|2023-07-13 17:26:...|                   1|{Unlike dogs, cat...|Unlike dogs, cats...|                114|  https://catfact.n...|           1|               34| https://catfact.n...|{false, 34, https...|               false|                 34|https://catfact.n...| https://catfact.n...|https://catfact.n...|              10|                 null|        10|          332|\n",
      "|  0|2023-07-13 17:26:...|                   1|{Unlike dogs, cat...|Unlike dogs, cats...|                114|  https://catfact.n...|           1|               34| https://catfact.n...|{false, Next, htt...|               false|               Next|https://catfact.n...| https://catfact.n...|https://catfact.n...|              10|                 null|        10|          332|\n",
      "|  0|2023-07-13 17:26:...|                   1|{When a cat chase...|When a cat chases...|                 97|  https://catfact.n...|           1|               34| https://catfact.n...|{false, Previous,...|               false|           Previous|                null| https://catfact.n...|https://catfact.n...|              10|                 null|        10|          332|\n",
      "|  0|2023-07-13 17:26:...|                   1|{When a cat chase...|When a cat chases...|                 97|  https://catfact.n...|           1|               34| https://catfact.n...|{true, 1, https:/...|                true|                  1|https://catfact.n...| https://catfact.n...|https://catfact.n...|              10|                 null|        10|          332|\n",
      "|  0|2023-07-13 17:26:...|                   1|{When a cat chase...|When a cat chases...|                 97|  https://catfact.n...|           1|               34| https://catfact.n...|{false, 2, https:...|               false|                  2|https://catfact.n...| https://catfact.n...|https://catfact.n...|              10|                 null|        10|          332|\n",
      "|  0|2023-07-13 17:26:...|                   1|{When a cat chase...|When a cat chases...|                 97|  https://catfact.n...|           1|               34| https://catfact.n...|{false, 3, https:...|               false|                  3|https://catfact.n...| https://catfact.n...|https://catfact.n...|              10|                 null|        10|          332|\n",
      "|  0|2023-07-13 17:26:...|                   1|{When a cat chase...|When a cat chases...|                 97|  https://catfact.n...|           1|               34| https://catfact.n...|{false, 4, https:...|               false|                  4|https://catfact.n...| https://catfact.n...|https://catfact.n...|              10|                 null|        10|          332|\n",
      "+---+--------------------+--------------------+--------------------+--------------------+-------------------+----------------------+------------+-----------------+---------------------+--------------------+--------------------+-------------------+--------------------+---------------------+--------------------+----------------+---------------------+----------+-------------+\n",
      "only showing top 20 rows\n",
      "\n"
     ]
    }
   ],
   "source": [
    "flattened_df = (\n",
    "    processed_df.withColumn(\n",
    "        \"payload_current_page\", F.col(\"payload.current_page\").cast(\"bigint\")\n",
    "    )\n",
    "    .withColumn(\"payload_data\", F.explode(\"payload.data\"))\n",
    "    .withColumn(\"payload_data_fact\", F.col(\"payload_data.fact\").cast(\"string\"))\n",
    "    .withColumn(\"payload_data_length\", F.col(\"payload_data.length\").cast(\"bigint\"))\n",
    "    .withColumn(\n",
    "        \"payload_first_page_url\", F.col(\"payload.first_page_url\").cast(\"string\")\n",
    "    )\n",
    "    .withColumn(\"payload_from\", F.col(\"payload.from\").cast(\"bigint\"))\n",
    "    .withColumn(\"payload_last_page\", F.col(\"payload.last_page\").cast(\"bigint\"))\n",
    "    .withColumn(\"payload_last_page_url\", F.col(\"payload.last_page_url\").cast(\"string\"))\n",
    "    .withColumn(\"payload_links\", F.explode(\"payload.links\"))\n",
    "    .withColumn(\"payload_links_active\", F.col(\"payload_links.active\").cast(\"boolean\"))\n",
    "    .withColumn(\"payload_links_label\", F.col(\"payload_links.label\").cast(\"string\"))\n",
    "    .withColumn(\"payload_links_url\", F.col(\"payload_links.url\").cast(\"string\"))\n",
    "    .withColumn(\"payload_next_page_url\", F.col(\"payload.next_page_url\").cast(\"string\"))\n",
    "    .withColumn(\"payload_path\", F.col(\"payload.path\").cast(\"string\"))\n",
    "    .withColumn(\"payload_per_page\", F.col(\"payload.per_page\").cast(\"bigint\"))\n",
    "    .withColumn(\"payload_prev_page_url\", F.col(\"payload.prev_page_url\").cast(\"string\"))\n",
    "    .withColumn(\"payload_to\", F.col(\"payload.to\").cast(\"bigint\"))\n",
    "    .withColumn(\"payload_total\", F.col(\"payload.total\").cast(\"bigint\"))\n",
    "    .select(\n",
    "        [\n",
    "            \"id\",\n",
    "            \"ts\",\n",
    "            \"payload_current_page\",\n",
    "            \"payload_data\",\n",
    "            \"payload_data_fact\",\n",
    "            \"payload_data_length\",\n",
    "            \"payload_first_page_url\",\n",
    "            \"payload_from\",\n",
    "            \"payload_last_page\",\n",
    "            \"payload_last_page_url\",\n",
    "            \"payload_links\",\n",
    "            \"payload_links_active\",\n",
    "            \"payload_links_label\",\n",
    "            \"payload_links_url\",\n",
    "            \"payload_next_page_url\",\n",
    "            \"payload_path\",\n",
    "            \"payload_per_page\",\n",
    "            \"payload_prev_page_url\",\n",
    "            \"payload_to\",\n",
    "            \"payload_total\",\n",
    "        ]\n",
    "    )\n",
    ")\n",
    "\n",
    "flattened_df.show()"
   ]
  }
 ],
 "metadata": {
  "kernelspec": {
   "display_name": ".venv",
   "language": "python",
   "name": "python3"
  },
  "language_info": {
   "codemirror_mode": {
    "name": "ipython",
    "version": 3
   },
   "file_extension": ".py",
   "mimetype": "text/x-python",
   "name": "python",
   "nbconvert_exporter": "python",
   "pygments_lexer": "ipython3",
   "version": "3.11.3"
  },
  "orig_nbformat": 4
 },
 "nbformat": 4,
 "nbformat_minor": 2
}
