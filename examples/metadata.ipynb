{
 "cells": [
  {
   "cell_type": "code",
   "execution_count": 1,
   "metadata": {},
   "outputs": [],
   "source": [
    "from pushcart.metadata import Metadata\n",
    "from pyspark.sql import SparkSession"
   ]
  },
  {
   "cell_type": "code",
   "execution_count": 2,
   "metadata": {},
   "outputs": [
    {
     "name": "stderr",
     "output_type": "stream",
     "text": [
      "23/08/03 23:33:12 WARN Utils: Your hostname, laptop resolves to a loopback address: 127.0.1.1; using 192.168.2.13 instead (on interface enp0s20f0u1u4u4)\n",
      "23/08/03 23:33:12 WARN Utils: Set SPARK_LOCAL_IP if you need to bind to another address\n",
      "Setting default log level to \"WARN\".\n",
      "To adjust logging level use sc.setLogLevel(newLevel). For SparkR, use setLogLevel(newLevel).\n",
      "23/08/03 23:33:12 WARN NativeCodeLoader: Unable to load native-hadoop library for your platform... using builtin-java classes where applicable\n"
     ]
    },
    {
     "name": "stdout",
     "output_type": "stream",
     "text": [
      "StructType([StructField('id', StringType(), True), StructField('ts', StringType(), True), StructField('payload', StringType(), True)])\n",
      "+---+--------------------+--------------------+\n",
      "| id|                  ts|             payload|\n",
      "+---+--------------------+--------------------+\n",
      "|  0|2023-07-13T17:26:...|{\"current_page\": ...|\n",
      "|  1|2023-07-13T17:27:...|{\"current_page\": ...|\n",
      "|  2|2023-07-13T17:27:...|{\"current_page\": ...|\n",
      "|  3|2023-07-13T17:27:...|{\"current_page\": ...|\n",
      "|  4|2023-07-13T17:27:...|{\"current_page\": ...|\n",
      "|  5|2023-07-13T17:27:...|{\"current_page\": ...|\n",
      "|  6|2023-07-13T17:27:...|{\"current_page\": ...|\n",
      "|  7|2023-07-13T17:27:...|{\"current_page\": ...|\n",
      "|  8|2023-07-13T17:27:...|{\"current_page\": ...|\n",
      "+---+--------------------+--------------------+\n",
      "\n"
     ]
    }
   ],
   "source": [
    "spark = SparkSession.builder.getOrCreate()\n",
    "\n",
    "df = (\n",
    "    spark.read.format(\"csv\")\n",
    "    .option(\"header\", \"true\")\n",
    "    .option(\"escape\", '\"')\n",
    "    .load(\"./dataset.csv\")\n",
    ")\n",
    "\n",
    "print(df.schema)\n",
    "df.show()"
   ]
  },
  {
   "cell_type": "code",
   "execution_count": 3,
   "metadata": {},
   "outputs": [
    {
     "name": "stderr",
     "output_type": "stream",
     "text": [
      "\u001b[32m2023-08-03 23:33:16.327\u001b[0m | \u001b[1mINFO    \u001b[0m | \u001b[36mpushcart.metadata\u001b[0m:\u001b[36m_infer_timestamps\u001b[0m:\u001b[36m71\u001b[0m - \u001b[1mAttempting to infer timestamp format for id column.\u001b[0m\n",
      "\u001b[32m2023-08-03 23:33:16.536\u001b[0m | \u001b[33m\u001b[1mWARNING \u001b[0m | \u001b[36mpushcart.metadata\u001b[0m:\u001b[36m_infer_timestamps\u001b[0m:\u001b[36m83\u001b[0m - \u001b[33m\u001b[1mCould not infer timestamp format for id column.\u001b[0m\n",
      "\u001b[32m2023-08-03 23:33:16.537\u001b[0m | \u001b[1mINFO    \u001b[0m | \u001b[36mpushcart.metadata\u001b[0m:\u001b[36m_infer_json_schema\u001b[0m:\u001b[36m27\u001b[0m - \u001b[1mAttempting to infer JSON schema for id column.\u001b[0m\n",
      "\u001b[32m2023-08-03 23:33:17.364\u001b[0m | \u001b[33m\u001b[1mWARNING \u001b[0m | \u001b[36mpushcart.metadata\u001b[0m:\u001b[36m_infer_json_schema\u001b[0m:\u001b[36m33\u001b[0m - \u001b[33m\u001b[1mCould not infer JSON schema for id column.\u001b[0m\n",
      "\u001b[32m2023-08-03 23:33:17.367\u001b[0m | \u001b[1mINFO    \u001b[0m | \u001b[36mpushcart.metadata\u001b[0m:\u001b[36m_infer_timestamps\u001b[0m:\u001b[36m71\u001b[0m - \u001b[1mAttempting to infer timestamp format for ts column.\u001b[0m\n",
      "\u001b[32m2023-08-03 23:33:17.511\u001b[0m | \u001b[1mINFO    \u001b[0m | \u001b[36mpushcart.metadata\u001b[0m:\u001b[36m_infer_timestamps\u001b[0m:\u001b[36m71\u001b[0m - \u001b[1mAttempting to infer timestamp format for payload column.\u001b[0m\n",
      "\u001b[32m2023-08-03 23:33:17.632\u001b[0m | \u001b[33m\u001b[1mWARNING \u001b[0m | \u001b[36mpushcart.metadata\u001b[0m:\u001b[36m_infer_timestamps\u001b[0m:\u001b[36m83\u001b[0m - \u001b[33m\u001b[1mCould not infer timestamp format for payload column.\u001b[0m\n",
      "\u001b[32m2023-08-03 23:33:17.633\u001b[0m | \u001b[1mINFO    \u001b[0m | \u001b[36mpushcart.metadata\u001b[0m:\u001b[36m_infer_json_schema\u001b[0m:\u001b[36m27\u001b[0m - \u001b[1mAttempting to infer JSON schema for payload column.\u001b[0m\n"
     ]
    },
    {
     "data": {
      "application/vnd.jupyter.widget-view+json": {
       "model_id": "f79fc16ba051432db57917d63a35d1b2",
       "version_major": 2,
       "version_minor": 0
      },
      "text/plain": [
       "VBox(children=(HBox(children=(Button(description='Add Row', style=ButtonStyle()), Button(description='Remove R…"
      ]
     },
     "metadata": {},
     "output_type": "display_data"
    }
   ],
   "source": [
    "md = Metadata(df, infer_fraction=1.0)\n",
    "md.get_metadata()\n"
   ]
  },
  {
   "cell_type": "code",
   "execution_count": 4,
   "metadata": {},
   "outputs": [
    {
     "data": {
      "text/html": [
       "<div>\n",
       "<style scoped>\n",
       "    .dataframe tbody tr th:only-of-type {\n",
       "        vertical-align: middle;\n",
       "    }\n",
       "\n",
       "    .dataframe tbody tr th {\n",
       "        vertical-align: top;\n",
       "    }\n",
       "\n",
       "    .dataframe thead th {\n",
       "        text-align: right;\n",
       "    }\n",
       "</style>\n",
       "<table border=\"1\" class=\"dataframe\">\n",
       "  <thead>\n",
       "    <tr style=\"text-align: right;\">\n",
       "      <th></th>\n",
       "      <th>column_order</th>\n",
       "      <th>source_column_name</th>\n",
       "      <th>source_column_type</th>\n",
       "      <th>dest_column_name</th>\n",
       "      <th>dest_column_type</th>\n",
       "      <th>transform_function</th>\n",
       "      <th>default_value</th>\n",
       "      <th>validation_rule</th>\n",
       "      <th>validation_action</th>\n",
       "    </tr>\n",
       "  </thead>\n",
       "  <tbody>\n",
       "    <tr>\n",
       "      <th>0</th>\n",
       "      <td>0</td>\n",
       "      <td>id</td>\n",
       "      <td>string</td>\n",
       "      <td>id</td>\n",
       "      <td>string</td>\n",
       "      <td></td>\n",
       "      <td></td>\n",
       "      <td></td>\n",
       "      <td></td>\n",
       "    </tr>\n",
       "    <tr>\n",
       "      <th>1</th>\n",
       "      <td>1</td>\n",
       "      <td>ts</td>\n",
       "      <td>string</td>\n",
       "      <td>ts</td>\n",
       "      <td>string</td>\n",
       "      <td>F.to_timestamp(F.col(\"ts\"), \"yyyy-MM-dd'T'HH:m...</td>\n",
       "      <td></td>\n",
       "      <td></td>\n",
       "      <td></td>\n",
       "    </tr>\n",
       "    <tr>\n",
       "      <th>2</th>\n",
       "      <td>2</td>\n",
       "      <td>payload</td>\n",
       "      <td>string</td>\n",
       "      <td>payload</td>\n",
       "      <td>string</td>\n",
       "      <td>F.from_json(F.col(\"payload\"), schema=\"struct&lt;c...</td>\n",
       "      <td></td>\n",
       "      <td></td>\n",
       "      <td></td>\n",
       "    </tr>\n",
       "    <tr>\n",
       "      <th>3</th>\n",
       "      <td></td>\n",
       "      <td></td>\n",
       "      <td></td>\n",
       "      <td></td>\n",
       "      <td></td>\n",
       "      <td></td>\n",
       "      <td></td>\n",
       "      <td></td>\n",
       "      <td></td>\n",
       "    </tr>\n",
       "  </tbody>\n",
       "</table>\n",
       "</div>"
      ],
      "text/plain": [
       "  column_order source_column_name source_column_type dest_column_name  \\\n",
       "0            0                 id             string               id   \n",
       "1            1                 ts             string               ts   \n",
       "2            2            payload             string          payload   \n",
       "3                                                                       \n",
       "\n",
       "  dest_column_type                                 transform_function  \\\n",
       "0           string                                                      \n",
       "1           string  F.to_timestamp(F.col(\"ts\"), \"yyyy-MM-dd'T'HH:m...   \n",
       "2           string  F.from_json(F.col(\"payload\"), schema=\"struct<c...   \n",
       "3                                                                       \n",
       "\n",
       "  default_value validation_rule validation_action  \n",
       "0                                                  \n",
       "1                                                  \n",
       "2                                                  \n",
       "3                                                  "
      ]
     },
     "metadata": {},
     "output_type": "display_data"
    }
   ],
   "source": [
    "import pandas as pd\n",
    "\n",
    "data = md.metadata_grid.get_visible_data()\n",
    "new_row = pd.DataFrame(\n",
    "    columns=data.columns,\n",
    "    index=[data.index[-1] + 1],\n",
    "    data=\"\" * len(data.columns),\n",
    ")\n",
    "data2 = pd.concat([data, new_row]).reset_index(drop=True)\n",
    "# md.metadata_grid.data = data\n",
    "display(data2)\n"
   ]
  },
  {
   "cell_type": "code",
   "execution_count": 5,
   "metadata": {},
   "outputs": [
    {
     "data": {
      "text/html": [
       "<div>\n",
       "<style scoped>\n",
       "    .dataframe tbody tr th:only-of-type {\n",
       "        vertical-align: middle;\n",
       "    }\n",
       "\n",
       "    .dataframe tbody tr th {\n",
       "        vertical-align: top;\n",
       "    }\n",
       "\n",
       "    .dataframe thead th {\n",
       "        text-align: right;\n",
       "    }\n",
       "</style>\n",
       "<table border=\"1\" class=\"dataframe\">\n",
       "  <thead>\n",
       "    <tr style=\"text-align: right;\">\n",
       "      <th></th>\n",
       "      <th>column_order</th>\n",
       "      <th>source_column_name</th>\n",
       "      <th>source_column_type</th>\n",
       "      <th>dest_column_name</th>\n",
       "      <th>dest_column_type</th>\n",
       "      <th>transform_function</th>\n",
       "      <th>default_value</th>\n",
       "      <th>validation_rule</th>\n",
       "      <th>validation_action</th>\n",
       "    </tr>\n",
       "  </thead>\n",
       "  <tbody>\n",
       "    <tr>\n",
       "      <th>0</th>\n",
       "      <td>0</td>\n",
       "      <td>id</td>\n",
       "      <td>string</td>\n",
       "      <td>id</td>\n",
       "      <td>string</td>\n",
       "      <td></td>\n",
       "      <td></td>\n",
       "      <td></td>\n",
       "      <td></td>\n",
       "    </tr>\n",
       "    <tr>\n",
       "      <th>1</th>\n",
       "      <td>1</td>\n",
       "      <td>ts</td>\n",
       "      <td>string</td>\n",
       "      <td>ts</td>\n",
       "      <td>string</td>\n",
       "      <td>F.to_timestamp(F.col(\"ts\"), \"yyyy-MM-dd'T'HH:m...</td>\n",
       "      <td></td>\n",
       "      <td></td>\n",
       "      <td></td>\n",
       "    </tr>\n",
       "    <tr>\n",
       "      <th>2</th>\n",
       "      <td>2</td>\n",
       "      <td>payload</td>\n",
       "      <td>string</td>\n",
       "      <td>payload</td>\n",
       "      <td>string</td>\n",
       "      <td>F.from_json(F.col(\"payload\"), schema=\"struct&lt;c...</td>\n",
       "      <td></td>\n",
       "      <td></td>\n",
       "      <td></td>\n",
       "    </tr>\n",
       "  </tbody>\n",
       "</table>\n",
       "</div>"
      ],
      "text/plain": [
       "   column_order source_column_name source_column_type dest_column_name  \\\n",
       "0             0                 id             string               id   \n",
       "1             1                 ts             string               ts   \n",
       "2             2            payload             string          payload   \n",
       "\n",
       "  dest_column_type                                 transform_function  \\\n",
       "0           string                                                      \n",
       "1           string  F.to_timestamp(F.col(\"ts\"), \"yyyy-MM-dd'T'HH:m...   \n",
       "2           string  F.from_json(F.col(\"payload\"), schema=\"struct<c...   \n",
       "\n",
       "  default_value validation_rule validation_action  \n",
       "0                                                  \n",
       "1                                                  \n",
       "2                                                  "
      ]
     },
     "execution_count": 5,
     "metadata": {},
     "output_type": "execute_result"
    }
   ],
   "source": [
    "# Edits are reflected in the underlying dataset\n",
    "md.metadata_df\n"
   ]
  },
  {
   "cell_type": "code",
   "execution_count": 6,
   "metadata": {},
   "outputs": [
    {
     "name": "stderr",
     "output_type": "stream",
     "text": [
      "\u001b[32m2023-08-03 23:33:18.294\u001b[0m | \u001b[1mINFO    \u001b[0m | \u001b[36mpushcart.metadata\u001b[0m:\u001b[36m_drop_technical_cols\u001b[0m:\u001b[36m408\u001b[0m - \u001b[1mExcluding technical columns: None\u001b[0m\n",
      "\u001b[32m2023-08-03 23:33:18.298\u001b[0m | \u001b[1mINFO    \u001b[0m | \u001b[36mpushcart.metadata\u001b[0m:\u001b[36mgenerate_code\u001b[0m:\u001b[36m484\u001b[0m - \u001b[1m\n",
      "df = (df\n",
      "\t.withColumn(\"ts\", F.to_timestamp(F.col(\"ts\"), \"yyyy-MM-dd'T'HH:mm:ss.SSSSSS\"))\n",
      "\t.withColumn(\"payload\", F.from_json(F.col(\"payload\"), schema=\"struct<current_page:bigint,data:array<struct<fact:string,length:bigint>>,first_page_url:string,from:bigint,last_page:bigint,last_page_url:string,links:array<struct<active:boolean,label:string,url:string>>,next_page_url:string,path:string,per_page:bigint,prev_page_url:string,to:bigint,total:bigint>\"))\n",
      "\t.select(['id', 'ts', 'payload']))\u001b[0m\n"
     ]
    }
   ],
   "source": [
    "code = md.generate_code()\n"
   ]
  },
  {
   "cell_type": "code",
   "execution_count": 7,
   "metadata": {},
   "outputs": [
    {
     "name": "stdout",
     "output_type": "stream",
     "text": [
      "StructType([StructField('id', IntegerType(), True), StructField('ts', TimestampType(), True), StructField('payload', StructType([StructField('current_page', LongType(), True), StructField('data', ArrayType(StructType([StructField('fact', StringType(), True), StructField('length', LongType(), True)]), True), True), StructField('first_page_url', StringType(), True), StructField('from', LongType(), True), StructField('last_page', LongType(), True), StructField('last_page_url', StringType(), True), StructField('links', ArrayType(StructType([StructField('active', BooleanType(), True), StructField('label', StringType(), True), StructField('url', StringType(), True)]), True), True), StructField('next_page_url', StringType(), True), StructField('path', StringType(), True), StructField('per_page', LongType(), True), StructField('prev_page_url', StringType(), True), StructField('to', LongType(), True), StructField('total', LongType(), True)]), True)])\n",
      "+---+--------------------+--------------------+\n",
      "| id|                  ts|             payload|\n",
      "+---+--------------------+--------------------+\n",
      "|  0|2023-07-13 17:26:...|{1, [{Unlike dogs...|\n",
      "|  1|2023-07-13 17:27:...|{2, [{During the ...|\n",
      "|  2|2023-07-13 17:27:...|{3, [{A cat can t...|\n",
      "|  3|2023-07-13 17:27:...|{4, [{A cat’s bra...|\n",
      "|  4|2023-07-13 17:27:...|{5, [{A cat can j...|\n",
      "|  5|2023-07-13 17:27:...|{6, [{In the orig...|\n",
      "|  6|2023-07-13 17:27:...|{7, [{All cats ha...|\n",
      "|  7|2023-07-13 17:27:...|{8, [{Approximate...|\n",
      "|  8|2023-07-13 17:27:...|{9, [{A cat’s nos...|\n",
      "+---+--------------------+--------------------+\n",
      "\n"
     ]
    }
   ],
   "source": [
    "import pyspark.sql.functions as F\n",
    "\n",
    "processed_df = (\n",
    "    df.withColumn(\"id\", F.col(\"id\").cast(\"int\"))\n",
    "    .withColumn(\"ts\", F.to_timestamp(F.col(\"ts\"), \"yyyy-MM-dd'T'HH:mm:ss.SSSSSS\"))\n",
    "    .withColumn(\n",
    "        \"payload\",\n",
    "        F.from_json(\n",
    "            F.col(\"payload\"),\n",
    "            schema=\"struct<current_page:bigint,data:array<struct<fact:string,length:bigint>>,first_page_url:string,from:bigint,last_page:bigint,last_page_url:string,links:array<struct<active:boolean,label:string,url:string>>,next_page_url:string,path:string,per_page:bigint,prev_page_url:string,to:bigint,total:bigint>\",\n",
    "        ),\n",
    "    )\n",
    "    .select([\"id\", \"ts\", \"payload\"])\n",
    ")\n",
    "\n",
    "print(processed_df.schema)\n",
    "processed_df.show()"
   ]
  },
  {
   "cell_type": "code",
   "execution_count": 8,
   "metadata": {},
   "outputs": [
    {
     "name": "stderr",
     "output_type": "stream",
     "text": [
      "\u001b[32m2023-08-03 23:33:19.204\u001b[0m | \u001b[1mINFO    \u001b[0m | \u001b[36mpushcart.metadata\u001b[0m:\u001b[36m_infer_timestamps\u001b[0m:\u001b[36m71\u001b[0m - \u001b[1mAttempting to infer timestamp format for payload.data.fact column.\u001b[0m\n",
      "\u001b[32m2023-08-03 23:33:19.479\u001b[0m | \u001b[33m\u001b[1mWARNING \u001b[0m | \u001b[36mpushcart.metadata\u001b[0m:\u001b[36m_infer_timestamps\u001b[0m:\u001b[36m83\u001b[0m - \u001b[33m\u001b[1mCould not infer timestamp format for payload.data.fact column.\u001b[0m\n",
      "\u001b[32m2023-08-03 23:33:19.480\u001b[0m | \u001b[1mINFO    \u001b[0m | \u001b[36mpushcart.metadata\u001b[0m:\u001b[36m_infer_json_schema\u001b[0m:\u001b[36m27\u001b[0m - \u001b[1mAttempting to infer JSON schema for payload.data.fact column.\u001b[0m\n",
      "\u001b[32m2023-08-03 23:33:19.854\u001b[0m | \u001b[33m\u001b[1mWARNING \u001b[0m | \u001b[36mpushcart.metadata\u001b[0m:\u001b[36m_infer_json_schema\u001b[0m:\u001b[36m33\u001b[0m - \u001b[33m\u001b[1mCould not infer JSON schema for payload.data.fact column.\u001b[0m\n",
      "\u001b[32m2023-08-03 23:33:19.866\u001b[0m | \u001b[1mINFO    \u001b[0m | \u001b[36mpushcart.metadata\u001b[0m:\u001b[36m_infer_timestamps\u001b[0m:\u001b[36m71\u001b[0m - \u001b[1mAttempting to infer timestamp format for payload.first_page_url column.\u001b[0m\n",
      "\u001b[32m2023-08-03 23:33:20.173\u001b[0m | \u001b[33m\u001b[1mWARNING \u001b[0m | \u001b[36mpushcart.metadata\u001b[0m:\u001b[36m_infer_timestamps\u001b[0m:\u001b[36m83\u001b[0m - \u001b[33m\u001b[1mCould not infer timestamp format for payload.first_page_url column.\u001b[0m\n",
      "\u001b[32m2023-08-03 23:33:20.175\u001b[0m | \u001b[1mINFO    \u001b[0m | \u001b[36mpushcart.metadata\u001b[0m:\u001b[36m_infer_json_schema\u001b[0m:\u001b[36m27\u001b[0m - \u001b[1mAttempting to infer JSON schema for payload.first_page_url column.\u001b[0m\n",
      "\u001b[32m2023-08-03 23:33:20.678\u001b[0m | \u001b[33m\u001b[1mWARNING \u001b[0m | \u001b[36mpushcart.metadata\u001b[0m:\u001b[36m_infer_json_schema\u001b[0m:\u001b[36m33\u001b[0m - \u001b[33m\u001b[1mCould not infer JSON schema for payload.first_page_url column.\u001b[0m\n",
      "\u001b[32m2023-08-03 23:33:20.684\u001b[0m | \u001b[1mINFO    \u001b[0m | \u001b[36mpushcart.metadata\u001b[0m:\u001b[36m_infer_timestamps\u001b[0m:\u001b[36m71\u001b[0m - \u001b[1mAttempting to infer timestamp format for payload.last_page_url column.\u001b[0m\n",
      "\u001b[32m2023-08-03 23:33:20.953\u001b[0m | \u001b[33m\u001b[1mWARNING \u001b[0m | \u001b[36mpushcart.metadata\u001b[0m:\u001b[36m_infer_timestamps\u001b[0m:\u001b[36m83\u001b[0m - \u001b[33m\u001b[1mCould not infer timestamp format for payload.last_page_url column.\u001b[0m\n",
      "\u001b[32m2023-08-03 23:33:20.955\u001b[0m | \u001b[1mINFO    \u001b[0m | \u001b[36mpushcart.metadata\u001b[0m:\u001b[36m_infer_json_schema\u001b[0m:\u001b[36m27\u001b[0m - \u001b[1mAttempting to infer JSON schema for payload.last_page_url column.\u001b[0m\n",
      "\u001b[32m2023-08-03 23:33:21.334\u001b[0m | \u001b[33m\u001b[1mWARNING \u001b[0m | \u001b[36mpushcart.metadata\u001b[0m:\u001b[36m_infer_json_schema\u001b[0m:\u001b[36m33\u001b[0m - \u001b[33m\u001b[1mCould not infer JSON schema for payload.last_page_url column.\u001b[0m\n",
      "\u001b[32m2023-08-03 23:33:21.342\u001b[0m | \u001b[1mINFO    \u001b[0m | \u001b[36mpushcart.metadata\u001b[0m:\u001b[36m_infer_timestamps\u001b[0m:\u001b[36m71\u001b[0m - \u001b[1mAttempting to infer timestamp format for payload.links.label column.\u001b[0m\n",
      "\u001b[32m2023-08-03 23:33:21.519\u001b[0m | \u001b[33m\u001b[1mWARNING \u001b[0m | \u001b[36mpushcart.metadata\u001b[0m:\u001b[36m_infer_timestamps\u001b[0m:\u001b[36m83\u001b[0m - \u001b[33m\u001b[1mCould not infer timestamp format for payload.links.label column.\u001b[0m\n",
      "\u001b[32m2023-08-03 23:33:21.521\u001b[0m | \u001b[1mINFO    \u001b[0m | \u001b[36mpushcart.metadata\u001b[0m:\u001b[36m_infer_json_schema\u001b[0m:\u001b[36m27\u001b[0m - \u001b[1mAttempting to infer JSON schema for payload.links.label column.\u001b[0m\n",
      "\u001b[32m2023-08-03 23:33:21.827\u001b[0m | \u001b[33m\u001b[1mWARNING \u001b[0m | \u001b[36mpushcart.metadata\u001b[0m:\u001b[36m_infer_json_schema\u001b[0m:\u001b[36m33\u001b[0m - \u001b[33m\u001b[1mCould not infer JSON schema for payload.links.label column.\u001b[0m\n",
      "\u001b[32m2023-08-03 23:33:21.832\u001b[0m | \u001b[1mINFO    \u001b[0m | \u001b[36mpushcart.metadata\u001b[0m:\u001b[36m_infer_timestamps\u001b[0m:\u001b[36m71\u001b[0m - \u001b[1mAttempting to infer timestamp format for payload.links.url column.\u001b[0m\n",
      "\u001b[32m2023-08-03 23:33:22.036\u001b[0m | \u001b[33m\u001b[1mWARNING \u001b[0m | \u001b[36mpushcart.metadata\u001b[0m:\u001b[36m_infer_timestamps\u001b[0m:\u001b[36m83\u001b[0m - \u001b[33m\u001b[1mCould not infer timestamp format for payload.links.url column.\u001b[0m\n",
      "\u001b[32m2023-08-03 23:33:22.038\u001b[0m | \u001b[1mINFO    \u001b[0m | \u001b[36mpushcart.metadata\u001b[0m:\u001b[36m_infer_json_schema\u001b[0m:\u001b[36m27\u001b[0m - \u001b[1mAttempting to infer JSON schema for payload.links.url column.\u001b[0m\n",
      "\u001b[32m2023-08-03 23:33:22.345\u001b[0m | \u001b[33m\u001b[1mWARNING \u001b[0m | \u001b[36mpushcart.metadata\u001b[0m:\u001b[36m_infer_json_schema\u001b[0m:\u001b[36m33\u001b[0m - \u001b[33m\u001b[1mCould not infer JSON schema for payload.links.url column.\u001b[0m\n",
      "\u001b[32m2023-08-03 23:33:22.350\u001b[0m | \u001b[1mINFO    \u001b[0m | \u001b[36mpushcart.metadata\u001b[0m:\u001b[36m_infer_timestamps\u001b[0m:\u001b[36m71\u001b[0m - \u001b[1mAttempting to infer timestamp format for payload.next_page_url column.\u001b[0m\n",
      "\u001b[32m2023-08-03 23:33:22.515\u001b[0m | \u001b[33m\u001b[1mWARNING \u001b[0m | \u001b[36mpushcart.metadata\u001b[0m:\u001b[36m_infer_timestamps\u001b[0m:\u001b[36m83\u001b[0m - \u001b[33m\u001b[1mCould not infer timestamp format for payload.next_page_url column.\u001b[0m\n",
      "\u001b[32m2023-08-03 23:33:22.517\u001b[0m | \u001b[1mINFO    \u001b[0m | \u001b[36mpushcart.metadata\u001b[0m:\u001b[36m_infer_json_schema\u001b[0m:\u001b[36m27\u001b[0m - \u001b[1mAttempting to infer JSON schema for payload.next_page_url column.\u001b[0m\n",
      "\u001b[32m2023-08-03 23:33:22.918\u001b[0m | \u001b[33m\u001b[1mWARNING \u001b[0m | \u001b[36mpushcart.metadata\u001b[0m:\u001b[36m_infer_json_schema\u001b[0m:\u001b[36m33\u001b[0m - \u001b[33m\u001b[1mCould not infer JSON schema for payload.next_page_url column.\u001b[0m\n",
      "\u001b[32m2023-08-03 23:33:22.926\u001b[0m | \u001b[1mINFO    \u001b[0m | \u001b[36mpushcart.metadata\u001b[0m:\u001b[36m_infer_timestamps\u001b[0m:\u001b[36m71\u001b[0m - \u001b[1mAttempting to infer timestamp format for payload.path column.\u001b[0m\n",
      "\u001b[32m2023-08-03 23:33:23.067\u001b[0m | \u001b[33m\u001b[1mWARNING \u001b[0m | \u001b[36mpushcart.metadata\u001b[0m:\u001b[36m_infer_timestamps\u001b[0m:\u001b[36m83\u001b[0m - \u001b[33m\u001b[1mCould not infer timestamp format for payload.path column.\u001b[0m\n",
      "\u001b[32m2023-08-03 23:33:23.068\u001b[0m | \u001b[1mINFO    \u001b[0m | \u001b[36mpushcart.metadata\u001b[0m:\u001b[36m_infer_json_schema\u001b[0m:\u001b[36m27\u001b[0m - \u001b[1mAttempting to infer JSON schema for payload.path column.\u001b[0m\n",
      "\u001b[32m2023-08-03 23:33:23.325\u001b[0m | \u001b[33m\u001b[1mWARNING \u001b[0m | \u001b[36mpushcart.metadata\u001b[0m:\u001b[36m_infer_json_schema\u001b[0m:\u001b[36m33\u001b[0m - \u001b[33m\u001b[1mCould not infer JSON schema for payload.path column.\u001b[0m\n",
      "\u001b[32m2023-08-03 23:33:23.331\u001b[0m | \u001b[1mINFO    \u001b[0m | \u001b[36mpushcart.metadata\u001b[0m:\u001b[36m_infer_timestamps\u001b[0m:\u001b[36m71\u001b[0m - \u001b[1mAttempting to infer timestamp format for payload.prev_page_url column.\u001b[0m\n",
      "\u001b[32m2023-08-03 23:33:23.465\u001b[0m | \u001b[33m\u001b[1mWARNING \u001b[0m | \u001b[36mpushcart.metadata\u001b[0m:\u001b[36m_infer_timestamps\u001b[0m:\u001b[36m83\u001b[0m - \u001b[33m\u001b[1mCould not infer timestamp format for payload.prev_page_url column.\u001b[0m\n",
      "\u001b[32m2023-08-03 23:33:23.467\u001b[0m | \u001b[1mINFO    \u001b[0m | \u001b[36mpushcart.metadata\u001b[0m:\u001b[36m_infer_json_schema\u001b[0m:\u001b[36m27\u001b[0m - \u001b[1mAttempting to infer JSON schema for payload.prev_page_url column.\u001b[0m\n",
      "\u001b[32m2023-08-03 23:33:23.745\u001b[0m | \u001b[33m\u001b[1mWARNING \u001b[0m | \u001b[36mpushcart.metadata\u001b[0m:\u001b[36m_infer_json_schema\u001b[0m:\u001b[36m33\u001b[0m - \u001b[33m\u001b[1mCould not infer JSON schema for payload.prev_page_url column.\u001b[0m\n"
     ]
    },
    {
     "data": {
      "application/vnd.jupyter.widget-view+json": {
       "model_id": "e1e730a7ac3441729471c1cb0757d8f2",
       "version_major": 2,
       "version_minor": 0
      },
      "text/plain": [
       "VBox(children=(HBox(children=(Button(description='Add Row', style=ButtonStyle()), Button(description='Remove R…"
      ]
     },
     "metadata": {},
     "output_type": "display_data"
    }
   ],
   "source": [
    "nested_md = Metadata(processed_df, infer_fraction=1.0)\n",
    "nested_md.get_metadata()\n"
   ]
  },
  {
   "cell_type": "code",
   "execution_count": 9,
   "metadata": {},
   "outputs": [
    {
     "name": "stderr",
     "output_type": "stream",
     "text": [
      "\u001b[32m2023-08-03 23:33:23.821\u001b[0m | \u001b[1mINFO    \u001b[0m | \u001b[36mpushcart.metadata\u001b[0m:\u001b[36m_drop_technical_cols\u001b[0m:\u001b[36m408\u001b[0m - \u001b[1mExcluding technical columns: None\u001b[0m\n",
      "\u001b[32m2023-08-03 23:33:23.827\u001b[0m | \u001b[1mINFO    \u001b[0m | \u001b[36mpushcart.metadata\u001b[0m:\u001b[36mgenerate_code\u001b[0m:\u001b[36m484\u001b[0m - \u001b[1m\n",
      "df = (df\n",
      "\t.withColumn(\"payload_current_page\", F.col(\"payload.current_page\").cast(\"bigint\"))\n",
      "\t.withColumn(\"payload_data\", F.explode(\"payload.data\"))\n",
      "\t.withColumn(\"payload_data_fact\", F.col(\"payload_data.fact\").cast(\"string\"))\n",
      "\t.withColumn(\"payload_data_length\", F.col(\"payload_data.length\").cast(\"bigint\"))\n",
      "\t.withColumn(\"payload_first_page_url\", F.col(\"payload.first_page_url\").cast(\"string\"))\n",
      "\t.withColumn(\"payload_from\", F.col(\"payload.from\").cast(\"bigint\"))\n",
      "\t.withColumn(\"payload_last_page\", F.col(\"payload.last_page\").cast(\"bigint\"))\n",
      "\t.withColumn(\"payload_last_page_url\", F.col(\"payload.last_page_url\").cast(\"string\"))\n",
      "\t.withColumn(\"payload_links\", F.explode(\"payload.links\"))\n",
      "\t.withColumn(\"payload_links_active\", F.col(\"payload_links.active\").cast(\"boolean\"))\n",
      "\t.withColumn(\"payload_links_label\", F.col(\"payload_links.label\").cast(\"string\"))\n",
      "\t.withColumn(\"payload_links_url\", F.col(\"payload_links.url\").cast(\"string\"))\n",
      "\t.withColumn(\"payload_next_page_url\", F.col(\"payload.next_page_url\").cast(\"string\"))\n",
      "\t.withColumn(\"payload_path\", F.col(\"payload.path\").cast(\"string\"))\n",
      "\t.withColumn(\"payload_per_page\", F.col(\"payload.per_page\").cast(\"bigint\"))\n",
      "\t.withColumn(\"payload_prev_page_url\", F.col(\"payload.prev_page_url\").cast(\"string\"))\n",
      "\t.withColumn(\"payload_to\", F.col(\"payload.to\").cast(\"bigint\"))\n",
      "\t.withColumn(\"payload_total\", F.col(\"payload.total\").cast(\"bigint\"))\n",
      "\t.select(['id', 'ts', 'payload_current_page', 'payload_data', 'payload_data_fact', 'payload_data_length', 'payload_first_page_url', 'payload_from', 'payload_last_page', 'payload_last_page_url', 'payload_links', 'payload_links_active', 'payload_links_label', 'payload_links_url', 'payload_next_page_url', 'payload_path', 'payload_per_page', 'payload_prev_page_url', 'payload_to', 'payload_total']))\u001b[0m\n"
     ]
    }
   ],
   "source": [
    "flat_code = nested_md.generate_code()\n"
   ]
  },
  {
   "cell_type": "code",
   "execution_count": 10,
   "metadata": {},
   "outputs": [
    {
     "name": "stdout",
     "output_type": "stream",
     "text": [
      "+---+--------------------+--------------------+--------------------+--------------------+-------------------+----------------------+------------+-----------------+---------------------+--------------------+--------------------+-------------------+--------------------+---------------------+--------------------+----------------+---------------------+----------+-------------+\n",
      "| id|                  ts|payload_current_page|        payload_data|   payload_data_fact|payload_data_length|payload_first_page_url|payload_from|payload_last_page|payload_last_page_url|       payload_links|payload_links_active|payload_links_label|   payload_links_url|payload_next_page_url|        payload_path|payload_per_page|payload_prev_page_url|payload_to|payload_total|\n",
      "+---+--------------------+--------------------+--------------------+--------------------+-------------------+----------------------+------------+-----------------+---------------------+--------------------+--------------------+-------------------+--------------------+---------------------+--------------------+----------------+---------------------+----------+-------------+\n",
      "|  0|2023-07-13 17:26:...|                   1|{Unlike dogs, cat...|Unlike dogs, cats...|                114|  https://catfact.n...|           1|               34| https://catfact.n...|{false, Previous,...|               false|           Previous|                null| https://catfact.n...|https://catfact.n...|              10|                 null|        10|          332|\n",
      "|  0|2023-07-13 17:26:...|                   1|{Unlike dogs, cat...|Unlike dogs, cats...|                114|  https://catfact.n...|           1|               34| https://catfact.n...|{true, 1, https:/...|                true|                  1|https://catfact.n...| https://catfact.n...|https://catfact.n...|              10|                 null|        10|          332|\n",
      "|  0|2023-07-13 17:26:...|                   1|{Unlike dogs, cat...|Unlike dogs, cats...|                114|  https://catfact.n...|           1|               34| https://catfact.n...|{false, 2, https:...|               false|                  2|https://catfact.n...| https://catfact.n...|https://catfact.n...|              10|                 null|        10|          332|\n",
      "|  0|2023-07-13 17:26:...|                   1|{Unlike dogs, cat...|Unlike dogs, cats...|                114|  https://catfact.n...|           1|               34| https://catfact.n...|{false, 3, https:...|               false|                  3|https://catfact.n...| https://catfact.n...|https://catfact.n...|              10|                 null|        10|          332|\n",
      "|  0|2023-07-13 17:26:...|                   1|{Unlike dogs, cat...|Unlike dogs, cats...|                114|  https://catfact.n...|           1|               34| https://catfact.n...|{false, 4, https:...|               false|                  4|https://catfact.n...| https://catfact.n...|https://catfact.n...|              10|                 null|        10|          332|\n",
      "|  0|2023-07-13 17:26:...|                   1|{Unlike dogs, cat...|Unlike dogs, cats...|                114|  https://catfact.n...|           1|               34| https://catfact.n...|{false, 5, https:...|               false|                  5|https://catfact.n...| https://catfact.n...|https://catfact.n...|              10|                 null|        10|          332|\n",
      "|  0|2023-07-13 17:26:...|                   1|{Unlike dogs, cat...|Unlike dogs, cats...|                114|  https://catfact.n...|           1|               34| https://catfact.n...|{false, 6, https:...|               false|                  6|https://catfact.n...| https://catfact.n...|https://catfact.n...|              10|                 null|        10|          332|\n",
      "|  0|2023-07-13 17:26:...|                   1|{Unlike dogs, cat...|Unlike dogs, cats...|                114|  https://catfact.n...|           1|               34| https://catfact.n...|{false, 7, https:...|               false|                  7|https://catfact.n...| https://catfact.n...|https://catfact.n...|              10|                 null|        10|          332|\n",
      "|  0|2023-07-13 17:26:...|                   1|{Unlike dogs, cat...|Unlike dogs, cats...|                114|  https://catfact.n...|           1|               34| https://catfact.n...|{false, 8, https:...|               false|                  8|https://catfact.n...| https://catfact.n...|https://catfact.n...|              10|                 null|        10|          332|\n",
      "|  0|2023-07-13 17:26:...|                   1|{Unlike dogs, cat...|Unlike dogs, cats...|                114|  https://catfact.n...|           1|               34| https://catfact.n...|{false, 9, https:...|               false|                  9|https://catfact.n...| https://catfact.n...|https://catfact.n...|              10|                 null|        10|          332|\n",
      "|  0|2023-07-13 17:26:...|                   1|{Unlike dogs, cat...|Unlike dogs, cats...|                114|  https://catfact.n...|           1|               34| https://catfact.n...|{false, 10, https...|               false|                 10|https://catfact.n...| https://catfact.n...|https://catfact.n...|              10|                 null|        10|          332|\n",
      "|  0|2023-07-13 17:26:...|                   1|{Unlike dogs, cat...|Unlike dogs, cats...|                114|  https://catfact.n...|           1|               34| https://catfact.n...|  {false, ..., null}|               false|                ...|                null| https://catfact.n...|https://catfact.n...|              10|                 null|        10|          332|\n",
      "|  0|2023-07-13 17:26:...|                   1|{Unlike dogs, cat...|Unlike dogs, cats...|                114|  https://catfact.n...|           1|               34| https://catfact.n...|{false, 33, https...|               false|                 33|https://catfact.n...| https://catfact.n...|https://catfact.n...|              10|                 null|        10|          332|\n",
      "|  0|2023-07-13 17:26:...|                   1|{Unlike dogs, cat...|Unlike dogs, cats...|                114|  https://catfact.n...|           1|               34| https://catfact.n...|{false, 34, https...|               false|                 34|https://catfact.n...| https://catfact.n...|https://catfact.n...|              10|                 null|        10|          332|\n",
      "|  0|2023-07-13 17:26:...|                   1|{Unlike dogs, cat...|Unlike dogs, cats...|                114|  https://catfact.n...|           1|               34| https://catfact.n...|{false, Next, htt...|               false|               Next|https://catfact.n...| https://catfact.n...|https://catfact.n...|              10|                 null|        10|          332|\n",
      "|  0|2023-07-13 17:26:...|                   1|{When a cat chase...|When a cat chases...|                 97|  https://catfact.n...|           1|               34| https://catfact.n...|{false, Previous,...|               false|           Previous|                null| https://catfact.n...|https://catfact.n...|              10|                 null|        10|          332|\n",
      "|  0|2023-07-13 17:26:...|                   1|{When a cat chase...|When a cat chases...|                 97|  https://catfact.n...|           1|               34| https://catfact.n...|{true, 1, https:/...|                true|                  1|https://catfact.n...| https://catfact.n...|https://catfact.n...|              10|                 null|        10|          332|\n",
      "|  0|2023-07-13 17:26:...|                   1|{When a cat chase...|When a cat chases...|                 97|  https://catfact.n...|           1|               34| https://catfact.n...|{false, 2, https:...|               false|                  2|https://catfact.n...| https://catfact.n...|https://catfact.n...|              10|                 null|        10|          332|\n",
      "|  0|2023-07-13 17:26:...|                   1|{When a cat chase...|When a cat chases...|                 97|  https://catfact.n...|           1|               34| https://catfact.n...|{false, 3, https:...|               false|                  3|https://catfact.n...| https://catfact.n...|https://catfact.n...|              10|                 null|        10|          332|\n",
      "|  0|2023-07-13 17:26:...|                   1|{When a cat chase...|When a cat chases...|                 97|  https://catfact.n...|           1|               34| https://catfact.n...|{false, 4, https:...|               false|                  4|https://catfact.n...| https://catfact.n...|https://catfact.n...|              10|                 null|        10|          332|\n",
      "+---+--------------------+--------------------+--------------------+--------------------+-------------------+----------------------+------------+-----------------+---------------------+--------------------+--------------------+-------------------+--------------------+---------------------+--------------------+----------------+---------------------+----------+-------------+\n",
      "only showing top 20 rows\n",
      "\n"
     ]
    },
    {
     "name": "stderr",
     "output_type": "stream",
     "text": [
      "23/08/03 23:33:25 WARN GarbageCollectionMetrics: To enable non-built-in garbage collector(s) List(G1 Concurrent GC), users should configure it(them) to spark.eventLog.gcMetrics.youngGenerationGarbageCollectors or spark.eventLog.gcMetrics.oldGenerationGarbageCollectors\n"
     ]
    }
   ],
   "source": [
    "flattened_df = (\n",
    "    processed_df.withColumn(\n",
    "        \"payload_current_page\", F.col(\"payload.current_page\").cast(\"bigint\")\n",
    "    )\n",
    "    .withColumn(\"payload_data\", F.explode(\"payload.data\"))\n",
    "    .withColumn(\"payload_data_fact\", F.col(\"payload_data.fact\").cast(\"string\"))\n",
    "    .withColumn(\"payload_data_length\", F.col(\"payload_data.length\").cast(\"bigint\"))\n",
    "    .withColumn(\n",
    "        \"payload_first_page_url\", F.col(\"payload.first_page_url\").cast(\"string\")\n",
    "    )\n",
    "    .withColumn(\"payload_from\", F.col(\"payload.from\").cast(\"bigint\"))\n",
    "    .withColumn(\"payload_last_page\", F.col(\"payload.last_page\").cast(\"bigint\"))\n",
    "    .withColumn(\"payload_last_page_url\", F.col(\"payload.last_page_url\").cast(\"string\"))\n",
    "    .withColumn(\"payload_links\", F.explode(\"payload.links\"))\n",
    "    .withColumn(\"payload_links_active\", F.col(\"payload_links.active\").cast(\"boolean\"))\n",
    "    .withColumn(\"payload_links_label\", F.col(\"payload_links.label\").cast(\"string\"))\n",
    "    .withColumn(\"payload_links_url\", F.col(\"payload_links.url\").cast(\"string\"))\n",
    "    .withColumn(\"payload_next_page_url\", F.col(\"payload.next_page_url\").cast(\"string\"))\n",
    "    .withColumn(\"payload_path\", F.col(\"payload.path\").cast(\"string\"))\n",
    "    .withColumn(\"payload_per_page\", F.col(\"payload.per_page\").cast(\"bigint\"))\n",
    "    .withColumn(\"payload_prev_page_url\", F.col(\"payload.prev_page_url\").cast(\"string\"))\n",
    "    .withColumn(\"payload_to\", F.col(\"payload.to\").cast(\"bigint\"))\n",
    "    .withColumn(\"payload_total\", F.col(\"payload.total\").cast(\"bigint\"))\n",
    "    .select(\n",
    "        [\n",
    "            \"id\",\n",
    "            \"ts\",\n",
    "            \"payload_current_page\",\n",
    "            \"payload_data\",\n",
    "            \"payload_data_fact\",\n",
    "            \"payload_data_length\",\n",
    "            \"payload_first_page_url\",\n",
    "            \"payload_from\",\n",
    "            \"payload_last_page\",\n",
    "            \"payload_last_page_url\",\n",
    "            \"payload_links\",\n",
    "            \"payload_links_active\",\n",
    "            \"payload_links_label\",\n",
    "            \"payload_links_url\",\n",
    "            \"payload_next_page_url\",\n",
    "            \"payload_path\",\n",
    "            \"payload_per_page\",\n",
    "            \"payload_prev_page_url\",\n",
    "            \"payload_to\",\n",
    "            \"payload_total\",\n",
    "        ]\n",
    "    )\n",
    ")\n",
    "\n",
    "flattened_df.show()"
   ]
  }
 ],
 "metadata": {
  "kernelspec": {
   "display_name": ".venv",
   "language": "python",
   "name": "python3"
  },
  "language_info": {
   "codemirror_mode": {
    "name": "ipython",
    "version": 3
   },
   "file_extension": ".py",
   "mimetype": "text/x-python",
   "name": "python",
   "nbconvert_exporter": "python",
   "pygments_lexer": "ipython3",
   "version": "3.11.3"
  },
  "orig_nbformat": 4
 },
 "nbformat": 4,
 "nbformat_minor": 2
}
