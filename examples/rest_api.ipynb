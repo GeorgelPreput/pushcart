{
 "cells": [
  {
   "cell_type": "code",
   "execution_count": 1,
   "metadata": {},
   "outputs": [],
   "source": [
    "import contextlib\n",
    "import httpx\n",
    "import json\n",
    "\n",
    "import pyspark.sql.functions as F\n",
    "import pyspark.sql.types as T\n",
    "\n",
    "from requests.structures import CaseInsensitiveDict\n",
    "from tqdm import tqdm\n",
    "from urllib.parse import parse_qs, urlparse, urlunparse\n",
    "\n",
    "from pyspark.sql import Row\n",
    "\n",
    "from authlib.integrations.httpx_client import OAuth2Client\n",
    "from authlib.oauth2.rfc7523 import ClientSecretJWT\n"
   ]
  },
  {
   "cell_type": "code",
   "execution_count": 2,
   "metadata": {},
   "outputs": [],
   "source": [
    "def _build_oauth_client(auth: dict = None) -> httpx.Client:\n",
    "    if auth is None:\n",
    "        msg = \"Please provide a valid auth specification\"\n",
    "        raise ValueError(msg)\n",
    "    if not (token_url := auth.get(\"token-url\")):\n",
    "        msg = \"Please provide a token-url in the auth specification\"\n",
    "        raise ValueError(msg)\n",
    "    if not (client_id := auth.get(\"client-id\")):\n",
    "        msg = \"Please provide a client-id in the auth specification\"\n",
    "        raise ValueError(msg)\n",
    "    if not (client_secret := auth.get(\"client-secret\")):\n",
    "        msg = \"Please provide a client-secret in the auth specification\"\n",
    "        raise ValueError(msg)\n",
    "\n",
    "    client = OAuth2Client(\n",
    "        client_id=client_id,\n",
    "        client_secret=client_secret,\n",
    "        token_endpoint_auth_method=\"client_secret_jwt\",\n",
    "    )\n",
    "    client.register_client_auth_method(ClientSecretJWT(token_endpoint=token_url))\n",
    "    client.fetch_token(token_url)\n",
    "\n",
    "    return client\n"
   ]
  },
  {
   "cell_type": "code",
   "execution_count": 3,
   "metadata": {},
   "outputs": [],
   "source": [
    "def _build_basic_auth_client(auth: dict = None) -> httpx.Client:\n",
    "    if auth is None:\n",
    "        msg = \"Please provide a valid auth specification\"\n",
    "        raise ValueError(msg)\n",
    "    if not (client_id := auth.get(\"client-id\")):\n",
    "        msg = \"Please provide a client-id in the auth specification\"\n",
    "        raise ValueError(msg)\n",
    "    if not (client_secret := auth.get(\"client-secret\")):\n",
    "        msg = \"Please provide a client-secret in the auth specification\"\n",
    "        raise ValueError(msg)\n",
    "\n",
    "    basic_auth = httpx.BasicAuth(username=client_id, password=client_secret)\n",
    "    transport = httpx.HTTPTransport(retries=5)\n",
    "    client = httpx.Client(transport=transport, auth=basic_auth)\n",
    "\n",
    "    return client\n"
   ]
  },
  {
   "cell_type": "code",
   "execution_count": 4,
   "metadata": {},
   "outputs": [],
   "source": [
    "def _build_no_auth_client() -> httpx.Client:\n",
    "    transport = httpx.HTTPTransport(retries=5)\n",
    "    return httpx.Client(transport=transport)\n"
   ]
  },
  {
   "cell_type": "code",
   "execution_count": 5,
   "metadata": {},
   "outputs": [],
   "source": [
    "def _build_client(auth: dict = None) -> httpx.Client:\n",
    "    if auth is None:\n",
    "        msg = \"Please specify an authentication type\"\n",
    "        raise ValueError(msg)\n",
    "\n",
    "    __NO_AUTH__ = \"NO_AUTH\"\n",
    "    __BASIC_AUTH__ = \"BASIC\"\n",
    "    __OAUTH2__ = \"OAUTH2\"\n",
    "\n",
    "    auth_type = str(auth.get(\"type\")).upper()\n",
    "\n",
    "    if auth_type == __NO_AUTH__:\n",
    "        return _build_no_auth_client()\n",
    "    if auth_type == __BASIC_AUTH__:\n",
    "        return _build_basic_auth_client(auth)\n",
    "    if auth_type == __OAUTH2__:\n",
    "        return _build_oauth_client(auth)\n",
    "\n",
    "    msg = f\"Expected auth['type'] in ['NO_AUTH', 'BASIC', 'OAUTH2']. Got: {auth_type}\"\n",
    "    raise ValueError(msg)\n"
   ]
  },
  {
   "cell_type": "code",
   "execution_count": 6,
   "metadata": {},
   "outputs": [],
   "source": [
    "def _split_params_from_url(url: str) -> tuple[str, dict]:\n",
    "    parsed_url = urlparse(url)\n",
    "    stripped_params = parse_qs(parsed_url.query)\n",
    "    stripped_url = urlunparse(\n",
    "        (\n",
    "            parsed_url.scheme,\n",
    "            parsed_url.netloc,\n",
    "            parsed_url.path,\n",
    "            \"\",\n",
    "            \"\",\n",
    "            parsed_url.fragment,\n",
    "        )\n",
    "    )\n",
    "\n",
    "    return stripped_url, stripped_params"
   ]
  },
  {
   "cell_type": "code",
   "execution_count": 7,
   "metadata": {},
   "outputs": [],
   "source": [
    "def _update_url_and_params(url: str, params: dict = None) -> tuple[str, dict]:\n",
    "    stripped_url, stripped_params = _split_params_from_url(url)\n",
    "    stripped_params.update(params)\n",
    "\n",
    "    return stripped_url, stripped_params"
   ]
  },
  {
   "cell_type": "code",
   "execution_count": 8,
   "metadata": {},
   "outputs": [],
   "source": [
    "def _add_data_for_get_request(data: str | dict) -> dict:\n",
    "    kwargs = {}\n",
    "\n",
    "    if data is None:\n",
    "        return kwargs\n",
    "\n",
    "    if isinstance(data, dict):\n",
    "        kwargs[\"data\"] = json.dumps(data)\n",
    "        return kwargs\n",
    "\n",
    "    elif isinstance(data, str):\n",
    "        kwargs[\"data\"] = data\n",
    "        return kwargs\n",
    "\n",
    "    type_error_msg = f\"Expected data to be either str or dict. Got {type(data)}\"\n",
    "    raise TypeError(type_error_msg)\n"
   ]
  },
  {
   "cell_type": "code",
   "execution_count": 9,
   "metadata": {},
   "outputs": [],
   "source": [
    "def _add_data_for_post_request(data: str | dict) -> dict:\n",
    "    kwargs = {}\n",
    "\n",
    "    if data is None:\n",
    "        return kwargs\n",
    "\n",
    "    if isinstance(data, dict):\n",
    "        kwargs[\"json\"] = data\n",
    "        return kwargs\n",
    "\n",
    "    if isinstance(data, str):\n",
    "        kwargs[\"data\"] = data\n",
    "        return kwargs\n",
    "\n",
    "    type_error_msg = f\"Expected data to be either str or dict. Got {type(data)}\"\n",
    "    raise TypeError(type_error_msg)\n"
   ]
  },
  {
   "cell_type": "code",
   "execution_count": 10,
   "metadata": {},
   "outputs": [],
   "source": [
    "def _prepare_request(\n",
    "    url: str,\n",
    "    headers: dict,\n",
    "    params: dict,\n",
    "    options: dict,\n",
    "    data: str | dict,\n",
    "    method: str,\n",
    ") -> dict:\n",
    "    kwargs = {\"url\": url, \"headers\": headers, \"params\": params, \"method\": method}\n",
    "    kwargs.update(options)\n",
    "\n",
    "    if method.upper() == \"GET\":\n",
    "        kwargs.update(_add_data_for_get_request(data))\n",
    "\n",
    "    if method.upper() == \"POST\":\n",
    "        kwargs.update(_add_data_for_post_request(data))\n",
    "\n",
    "    return kwargs\n"
   ]
  },
  {
   "cell_type": "code",
   "execution_count": 11,
   "metadata": {},
   "outputs": [],
   "source": [
    "def _batch_request(\n",
    "    client: httpx.Client,\n",
    "    url: str,\n",
    "    headers: dict,\n",
    "    params: dict,\n",
    "    options: dict,\n",
    "    data: str | dict,\n",
    "    method: str,\n",
    ") -> httpx.Response:\n",
    "    kwargs = _prepare_request(\n",
    "        url=url,\n",
    "        headers=headers,\n",
    "        params=params,\n",
    "        options=options,\n",
    "        data=data,\n",
    "        method=method,\n",
    "    )\n",
    "\n",
    "    return client.request(**kwargs)\n"
   ]
  },
  {
   "cell_type": "code",
   "execution_count": 12,
   "metadata": {},
   "outputs": [],
   "source": [
    "def _parse_api_response(res: httpx.Response) -> list[dict]:\n",
    "    res_json = None\n",
    "\n",
    "    with contextlib.suppress(json.JSONDecodeError):\n",
    "        res_json = res.json()\n",
    "\n",
    "    if not res_json:\n",
    "        res_json = {\"payload\": res.text}\n",
    "\n",
    "    if not isinstance(res_json, list):\n",
    "        res_json = [res_json]\n",
    "\n",
    "    return res_json\n"
   ]
  },
  {
   "cell_type": "code",
   "execution_count": 13,
   "metadata": {},
   "outputs": [],
   "source": [
    "def batch_request(\n",
    "    url: str,\n",
    "    headers: dict = None,\n",
    "    auth: dict = None,\n",
    "    params: dict = None,\n",
    "    data: str | dict = None,\n",
    "    method: str = \"GET\",\n",
    "    options: dict = None,\n",
    ") -> list[dict]:\n",
    "    headers = headers or {}\n",
    "    params = params or {}\n",
    "    # For options, see: https://www.python-httpx.org/api/\n",
    "    options = options or {}\n",
    "    auth = auth or {\"type\": \"NO_AUTH\"}\n",
    "\n",
    "    stripped_url, stripped_params = _update_url_and_params(url=url, params=params)\n",
    "    client = _build_client(auth)\n",
    "\n",
    "    res = _batch_request(\n",
    "        client=client,\n",
    "        url=stripped_url,\n",
    "        headers=headers,\n",
    "        params=stripped_params,\n",
    "        options=options,\n",
    "        data=data,\n",
    "        method=method,\n",
    "    )\n",
    "\n",
    "    return _parse_api_response(res)\n"
   ]
  },
  {
   "cell_type": "code",
   "execution_count": 14,
   "metadata": {},
   "outputs": [
    {
     "name": "stderr",
     "output_type": "stream",
     "text": [
      "100%|██████████| 100M/100M [00:14<00:00, 7.20MB/s] \n"
     ]
    }
   ],
   "source": [
    "def _streaming_request(\n",
    "    client: httpx.Client,\n",
    "    url: str,\n",
    "    headers: dict,\n",
    "    params: dict,\n",
    "    options: dict,\n",
    "    data: str | dict,\n",
    "    method: str,\n",
    "    target_path: str,\n",
    ") -> httpx.Response:\n",
    "    kwargs = _prepare_request(\n",
    "        url=url,\n",
    "        headers=headers,\n",
    "        params=params,\n",
    "        options=options,\n",
    "        data=data,\n",
    "        method=method,\n",
    "    )\n",
    "    with open(target_path, \"+wb\") as download_file:\n",
    "        with client.stream(**kwargs) as res:\n",
    "            res_headers = CaseInsensitiveDict(res.headers)\n",
    "            total = int(res_headers.get(\"content-length\", \"0\"))\n",
    "\n",
    "            with tqdm(\n",
    "                total=total, unit_scale=True, unit_divisor=1024, unit=\"B\"\n",
    "            ) as progress:\n",
    "                num_bytes_downloaded = res.num_bytes_downloaded\n",
    "                for chunk in res.iter_bytes():\n",
    "                    download_file.write(chunk)\n",
    "                    progress.update(res.num_bytes_downloaded - num_bytes_downloaded)\n",
    "                    num_bytes_downloaded = res.num_bytes_downloaded\n",
    "\n",
    "    return target_path"
   ]
  },
  {
   "cell_type": "code",
   "execution_count": 15,
   "metadata": {},
   "outputs": [],
   "source": [
    "def streaming_request(\n",
    "    url: str,\n",
    "    headers: dict = None,\n",
    "    auth: dict = None,\n",
    "    params: dict = None,\n",
    "    data: str | dict = None,\n",
    "    method: str = \"GET\",\n",
    "    options: dict = None,\n",
    "    target_path: str = None,\n",
    ") -> list[dict]:\n",
    "    headers = headers or {}\n",
    "    params = params or {}\n",
    "    # For options, see: https://www.python-httpx.org/api/\n",
    "    options = options or {}\n",
    "    auth = auth or {\"type\": \"NO_AUTH\"}\n",
    "\n",
    "    stripped_url, stripped_params = _update_url_and_params(url=url, params=params)\n",
    "    client = _build_client(auth)\n",
    "\n",
    "    return _streaming_request(\n",
    "        client=client,\n",
    "        url=stripped_url,\n",
    "        headers=headers,\n",
    "        params=stripped_params,\n",
    "        options=options,\n",
    "        data=data,\n",
    "        method=method,\n",
    "        target_path=target_path,\n",
    "    )"
   ]
  },
  {
   "cell_type": "code",
   "execution_count": 21,
   "metadata": {},
   "outputs": [
    {
     "data": {
      "text/plain": [
       "[{'page': 2,\n",
       "  'per_page': 6,\n",
       "  'total': 12,\n",
       "  'total_pages': 2,\n",
       "  'data': [{'id': 7,\n",
       "    'email': 'michael.lawson@reqres.in',\n",
       "    'first_name': 'Michael',\n",
       "    'last_name': 'Lawson',\n",
       "    'avatar': 'https://reqres.in/img/faces/7-image.jpg'},\n",
       "   {'id': 8,\n",
       "    'email': 'lindsay.ferguson@reqres.in',\n",
       "    'first_name': 'Lindsay',\n",
       "    'last_name': 'Ferguson',\n",
       "    'avatar': 'https://reqres.in/img/faces/8-image.jpg'},\n",
       "   {'id': 9,\n",
       "    'email': 'tobias.funke@reqres.in',\n",
       "    'first_name': 'Tobias',\n",
       "    'last_name': 'Funke',\n",
       "    'avatar': 'https://reqres.in/img/faces/9-image.jpg'},\n",
       "   {'id': 10,\n",
       "    'email': 'byron.fields@reqres.in',\n",
       "    'first_name': 'Byron',\n",
       "    'last_name': 'Fields',\n",
       "    'avatar': 'https://reqres.in/img/faces/10-image.jpg'},\n",
       "   {'id': 11,\n",
       "    'email': 'george.edwards@reqres.in',\n",
       "    'first_name': 'George',\n",
       "    'last_name': 'Edwards',\n",
       "    'avatar': 'https://reqres.in/img/faces/11-image.jpg'},\n",
       "   {'id': 12,\n",
       "    'email': 'rachel.howell@reqres.in',\n",
       "    'first_name': 'Rachel',\n",
       "    'last_name': 'Howell',\n",
       "    'avatar': 'https://reqres.in/img/faces/12-image.jpg'}],\n",
       "  'support': {'url': 'https://reqres.in/#support-heading',\n",
       "   'text': 'To keep ReqRes free, contributions towards server costs are appreciated!'}}]"
      ]
     },
     "execution_count": 21,
     "metadata": {},
     "output_type": "execute_result"
    }
   ],
   "source": [
    "r = batch_request(url=\"https://reqres.in/api/users\", params={\"page\": 2}, method=\"GET\")\n",
    "r"
   ]
  },
  {
   "cell_type": "code",
   "execution_count": 17,
   "metadata": {},
   "outputs": [
    {
     "data": {
      "text/plain": [
       "[{'name': 'Gigi Par',\n",
       "  'job': 'smasher',\n",
       "  'id': '378',\n",
       "  'createdAt': '2023-07-19T15:15:36.604Z'}]"
      ]
     },
     "execution_count": 17,
     "metadata": {},
     "output_type": "execute_result"
    }
   ],
   "source": [
    "r = batch_request(\n",
    "    url=\"https://reqres.in/api/users\",\n",
    "    data={\"name\": \"Gigi Par\", \"job\": \"smasher\"},\n",
    "    method=\"POST\",\n",
    ")\n",
    "r\n"
   ]
  },
  {
   "cell_type": "code",
   "execution_count": 18,
   "metadata": {},
   "outputs": [
    {
     "data": {
      "text/plain": [
       "[{'payload': '<!DOCTYPE html>\\n<!--[if lt IE 7]> <html class=\"no-js ie6 oldie\" lang=\"en-US\"> <![endif]-->\\n<!--[if IE 7]>    <html class=\"no-js ie7 oldie\" lang=\"en-US\"> <![endif]-->\\n<!--[if IE 8]>    <html class=\"no-js ie8 oldie\" lang=\"en-US\"> <![endif]-->\\n<!--[if gt IE 8]><!--> <html class=\"no-js\" lang=\"en-US\"> <!--<![endif]-->\\n<head>\\n<title>Attention Required! | Cloudflare</title>\\n<meta charset=\"UTF-8\" />\\n<meta http-equiv=\"Content-Type\" content=\"text/html; charset=UTF-8\" />\\n<meta http-equiv=\"X-UA-Compatible\" content=\"IE=Edge\" />\\n<meta name=\"robots\" content=\"noindex, nofollow\" />\\n<meta name=\"viewport\" content=\"width=device-width,initial-scale=1\" />\\n<link rel=\"stylesheet\" id=\"cf_styles-css\" href=\"/cdn-cgi/styles/cf.errors.css\" />\\n<!--[if lt IE 9]><link rel=\"stylesheet\" id=\\'cf_styles-ie-css\\' href=\"/cdn-cgi/styles/cf.errors.ie.css\" /><![endif]-->\\n<style>body{margin:0;padding:0}</style>\\n\\n\\n<!--[if gte IE 10]><!-->\\n<script>\\n  if (!navigator.cookieEnabled) {\\n    window.addEventListener(\\'DOMContentLoaded\\', function () {\\n      var cookieEl = document.getElementById(\\'cookie-alert\\');\\n      cookieEl.style.display = \\'block\\';\\n    })\\n  }\\n</script>\\n<!--<![endif]-->\\n\\n\\n</head>\\n<body>\\n  <div id=\"cf-wrapper\">\\n    <div class=\"cf-alert cf-alert-error cf-cookie-error\" id=\"cookie-alert\" data-translate=\"enable_cookies\">Please enable cookies.</div>\\n    <div id=\"cf-error-details\" class=\"cf-error-details-wrapper\">\\n      <div class=\"cf-wrapper cf-header cf-error-overview\">\\n        <h1 data-translate=\"block_headline\">Sorry, you have been blocked</h1>\\n        <h2 class=\"cf-subheadline\"><span data-translate=\"unable_to_access\">You are unable to access</span> reqbin.com</h2>\\n      </div><!-- /.header -->\\n\\n      <div class=\"cf-section cf-highlight\">\\n        <div class=\"cf-wrapper\">\\n          <div class=\"cf-screenshot-container cf-screenshot-full\">\\n            \\n              <span class=\"cf-no-screenshot error\"></span>\\n            \\n          </div>\\n        </div>\\n      </div><!-- /.captcha-container -->\\n\\n      <div class=\"cf-section cf-wrapper\">\\n        <div class=\"cf-columns two\">\\n          <div class=\"cf-column\">\\n            <h2 data-translate=\"blocked_why_headline\">Why have I been blocked?</h2>\\n\\n            <p data-translate=\"blocked_why_detail\">This website is using a security service to protect itself from online attacks. The action you just performed triggered the security solution. There are several actions that could trigger this block including submitting a certain word or phrase, a SQL command or malformed data.</p>\\n          </div>\\n\\n          <div class=\"cf-column\">\\n            <h2 data-translate=\"blocked_resolve_headline\">What can I do to resolve this?</h2>\\n\\n            <p data-translate=\"blocked_resolve_detail\">You can email the site owner to let them know you were blocked. Please include what you were doing when this page came up and the Cloudflare Ray ID found at the bottom of this page.</p>\\n          </div>\\n        </div>\\n      </div><!-- /.section -->\\n\\n      <div class=\"cf-error-footer cf-wrapper w-240 lg:w-full py-10 sm:py-4 sm:px-8 mx-auto text-center sm:text-left border-solid border-0 border-t border-gray-300\">\\n  <p class=\"text-13\">\\n    <span class=\"cf-footer-item sm:block sm:mb-1\">Cloudflare Ray ID: <strong class=\"font-semibold\">7e93ebba3fb2b748</strong></span>\\n    <span class=\"cf-footer-separator sm:hidden\">&bull;</span>\\n    <span id=\"cf-footer-item-ip\" class=\"cf-footer-item hidden sm:block sm:mb-1\">\\n      Your IP:\\n      <button type=\"button\" id=\"cf-footer-ip-reveal\" class=\"cf-footer-ip-reveal-btn\">Click to reveal</button>\\n      <span class=\"hidden\" id=\"cf-footer-ip\">2a02:a46c:3157:0:29e6:8e0a:d2a5:559</span>\\n      <span class=\"cf-footer-separator sm:hidden\">&bull;</span>\\n    </span>\\n    <span class=\"cf-footer-item sm:block sm:mb-1\"><span>Performance &amp; security by</span> <a rel=\"noopener noreferrer\" href=\"https://www.cloudflare.com/5xx-error-landing\" id=\"brand_link\" target=\"_blank\">Cloudflare</a></span>\\n    \\n  </p>\\n  <script>(function(){function d(){var b=a.getElementById(\"cf-footer-item-ip\"),c=a.getElementById(\"cf-footer-ip-reveal\");b&&\"classList\"in b&&(b.classList.remove(\"hidden\"),c.addEventListener(\"click\",function(){c.classList.add(\"hidden\");a.getElementById(\"cf-footer-ip\").classList.remove(\"hidden\")}))}var a=document;document.addEventListener&&a.addEventListener(\"DOMContentLoaded\",d)})();</script>\\n</div><!-- /.error-footer -->\\n\\n\\n    </div><!-- /#cf-error-details -->\\n  </div><!-- /#cf-wrapper -->\\n\\n  <script>\\n  window._cf_translation = {};\\n  \\n  \\n</script>\\n\\n</body>\\n</html>\\n'}]"
      ]
     },
     "execution_count": 18,
     "metadata": {},
     "output_type": "execute_result"
    }
   ],
   "source": [
    "r = batch_request(\n",
    "    url=\"https://reqbin.com/echo\",\n",
    "    data={\"name\": \"Gigi Par\", \"job\": \"smasher\"},\n",
    "    method=\"POST\",\n",
    ")\n",
    "r\n"
   ]
  },
  {
   "cell_type": "code",
   "execution_count": 19,
   "metadata": {},
   "outputs": [
    {
     "name": "stderr",
     "output_type": "stream",
     "text": [
      "379B [00:00, 1.04MB/s]\n"
     ]
    },
    {
     "data": {
      "text/plain": [
       "'./response.json'"
      ]
     },
     "execution_count": 19,
     "metadata": {},
     "output_type": "execute_result"
    }
   ],
   "source": [
    "r = streaming_request(\n",
    "    url=\"https://reqres.in/api/users\",\n",
    "    params={\"page\": 2},\n",
    "    method=\"GET\",\n",
    "    target_path=\"./response.json\",\n",
    ")\n",
    "r"
   ]
  },
  {
   "cell_type": "code",
   "execution_count": 20,
   "metadata": {},
   "outputs": [
    {
     "name": "stderr",
     "output_type": "stream",
     "text": [
      "23/07/19 17:36:29 WARN Utils: Your hostname, laptop resolves to a loopback address: 127.0.1.1; using 192.168.2.5 instead (on interface wlan0)\n",
      "23/07/19 17:36:29 WARN Utils: Set SPARK_LOCAL_IP if you need to bind to another address\n",
      "Setting default log level to \"WARN\".\n",
      "To adjust logging level use sc.setLogLevel(newLevel). For SparkR, use setLogLevel(newLevel).\n",
      "23/07/19 17:36:30 WARN NativeCodeLoader: Unable to load native-hadoop library for your platform... using builtin-java classes where applicable\n"
     ]
    }
   ],
   "source": [
    "from pyspark.sql import SparkSession\n",
    "\n",
    "spark = SparkSession.builder.getOrCreate()"
   ]
  },
  {
   "cell_type": "code",
   "execution_count": 25,
   "metadata": {},
   "outputs": [
    {
     "data": {
      "text/html": [
       "<div>\n",
       "<style scoped>\n",
       "    .dataframe tbody tr th:only-of-type {\n",
       "        vertical-align: middle;\n",
       "    }\n",
       "\n",
       "    .dataframe tbody tr th {\n",
       "        vertical-align: top;\n",
       "    }\n",
       "\n",
       "    .dataframe thead th {\n",
       "        text-align: right;\n",
       "    }\n",
       "</style>\n",
       "<table border=\"1\" class=\"dataframe\">\n",
       "  <thead>\n",
       "    <tr style=\"text-align: right;\">\n",
       "      <th></th>\n",
       "      <th>data</th>\n",
       "      <th>page</th>\n",
       "      <th>per_page</th>\n",
       "      <th>support</th>\n",
       "      <th>total</th>\n",
       "      <th>total_pages</th>\n",
       "    </tr>\n",
       "  </thead>\n",
       "  <tbody>\n",
       "    <tr>\n",
       "      <th>0</th>\n",
       "      <td>[{'last_name': None, 'avatar': None, 'id': 7, ...</td>\n",
       "      <td>2</td>\n",
       "      <td>6</td>\n",
       "      <td>{'url': 'https://reqres.in/#support-heading', ...</td>\n",
       "      <td>12</td>\n",
       "      <td>2</td>\n",
       "    </tr>\n",
       "  </tbody>\n",
       "</table>\n",
       "</div>"
      ],
      "text/plain": [
       "                                                data  page  per_page  \\\n",
       "0  [{'last_name': None, 'avatar': None, 'id': 7, ...     2         6   \n",
       "\n",
       "                                             support  total  total_pages  \n",
       "0  {'url': 'https://reqres.in/#support-heading', ...     12            2  "
      ]
     },
     "execution_count": 25,
     "metadata": {},
     "output_type": "execute_result"
    }
   ],
   "source": [
    "df = spark.createDataFrame(r).toPandas()\n",
    "df\n"
   ]
  }
 ],
 "metadata": {
  "kernelspec": {
   "display_name": ".venv",
   "language": "python",
   "name": "python3"
  },
  "language_info": {
   "codemirror_mode": {
    "name": "ipython",
    "version": 3
   },
   "file_extension": ".py",
   "mimetype": "text/x-python",
   "name": "python",
   "nbconvert_exporter": "python",
   "pygments_lexer": "ipython3",
   "version": "3.11.3"
  },
  "orig_nbformat": 4
 },
 "nbformat": 4,
 "nbformat_minor": 2
}
