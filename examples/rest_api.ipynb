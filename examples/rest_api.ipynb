{
 "cells": [
  {
   "cell_type": "code",
   "execution_count": 1,
   "metadata": {},
   "outputs": [],
   "source": [
    "from pushcart.sources.rest_api.request import batch_request\n",
    "from pushcart.sources.rest_api.spark import request_dataframe\n",
    "from pushcart.metadata import Metadata\n",
    "from pyspark.sql import SparkSession\n",
    "\n",
    "import pyspark.sql.functions as F\n"
   ]
  },
  {
   "cell_type": "code",
   "execution_count": 2,
   "metadata": {},
   "outputs": [
    {
     "name": "stderr",
     "output_type": "stream",
     "text": [
      "INFO:httpx:HTTP Request: GET https://reqres.in/api/users?page=2 \"HTTP/1.1 200 OK\"\n"
     ]
    },
    {
     "data": {
      "text/plain": [
       "[{'page': 2,\n",
       "  'per_page': 6,\n",
       "  'total': 12,\n",
       "  'total_pages': 2,\n",
       "  'data': [{'id': 7,\n",
       "    'email': 'michael.lawson@reqres.in',\n",
       "    'first_name': 'Michael',\n",
       "    'last_name': 'Lawson',\n",
       "    'avatar': 'https://reqres.in/img/faces/7-image.jpg'},\n",
       "   {'id': 8,\n",
       "    'email': 'lindsay.ferguson@reqres.in',\n",
       "    'first_name': 'Lindsay',\n",
       "    'last_name': 'Ferguson',\n",
       "    'avatar': 'https://reqres.in/img/faces/8-image.jpg'},\n",
       "   {'id': 9,\n",
       "    'email': 'tobias.funke@reqres.in',\n",
       "    'first_name': 'Tobias',\n",
       "    'last_name': 'Funke',\n",
       "    'avatar': 'https://reqres.in/img/faces/9-image.jpg'},\n",
       "   {'id': 10,\n",
       "    'email': 'byron.fields@reqres.in',\n",
       "    'first_name': 'Byron',\n",
       "    'last_name': 'Fields',\n",
       "    'avatar': 'https://reqres.in/img/faces/10-image.jpg'},\n",
       "   {'id': 11,\n",
       "    'email': 'george.edwards@reqres.in',\n",
       "    'first_name': 'George',\n",
       "    'last_name': 'Edwards',\n",
       "    'avatar': 'https://reqres.in/img/faces/11-image.jpg'},\n",
       "   {'id': 12,\n",
       "    'email': 'rachel.howell@reqres.in',\n",
       "    'first_name': 'Rachel',\n",
       "    'last_name': 'Howell',\n",
       "    'avatar': 'https://reqres.in/img/faces/12-image.jpg'}],\n",
       "  'support': {'url': 'https://reqres.in/#support-heading',\n",
       "   'text': 'To keep ReqRes free, contributions towards server costs are appreciated!'}}]"
      ]
     },
     "execution_count": 2,
     "metadata": {},
     "output_type": "execute_result"
    }
   ],
   "source": [
    "result = batch_request(\n",
    "    url=\"https://reqres.in/api/users\", params={\"page\": 2}, method=\"GET\"\n",
    ")\n",
    "result"
   ]
  },
  {
   "cell_type": "code",
   "execution_count": 3,
   "metadata": {},
   "outputs": [
    {
     "name": "stderr",
     "output_type": "stream",
     "text": [
      "23/07/28 11:24:51 WARN Utils: Your hostname, laptop resolves to a loopback address: 127.0.1.1; using 192.168.2.13 instead (on interface enp0s20f0u1u4u4)\n",
      "23/07/28 11:24:51 WARN Utils: Set SPARK_LOCAL_IP if you need to bind to another address\n",
      "Setting default log level to \"WARN\".\n",
      "To adjust logging level use sc.setLogLevel(newLevel). For SparkR, use setLogLevel(newLevel).\n",
      "23/07/28 11:24:51 WARN NativeCodeLoader: Unable to load native-hadoop library for your platform... using builtin-java classes where applicable\n"
     ]
    },
    {
     "name": "stderr",
     "output_type": "stream",
     "text": [
      "23/07/28 11:25:02 WARN GarbageCollectionMetrics: To enable non-built-in garbage collector(s) List(G1 Concurrent GC), users should configure it(them) to spark.eventLog.gcMetrics.youngGenerationGarbageCollectors or spark.eventLog.gcMetrics.oldGenerationGarbageCollectors\n"
     ]
    }
   ],
   "source": [
    "spark = SparkSession.builder.getOrCreate()"
   ]
  },
  {
   "cell_type": "code",
   "execution_count": 6,
   "metadata": {},
   "outputs": [
    {
     "name": "stdout",
     "output_type": "stream",
     "text": [
      "+---------------------------+-------+----+-----------+----+---------+------+-------+-----------------------------------------------------------------------------------------------------------------------------------------------------------------------------------------------------------------------------------------------------------------------------------------------------------------------------------------------------------------------------------------------------------------------------------------------------------------------------------------------------------------------------------------------------------------------+\n",
      "|url                        |headers|auth|params     |data|json_data|method|options|result                                                                                                                                                                                                                                                                                                                                                                                                                                                                                                                                                                 |\n",
      "+---------------------------+-------+----+-----------+----+---------+------+-------+-----------------------------------------------------------------------------------------------------------------------------------------------------------------------------------------------------------------------------------------------------------------------------------------------------------------------------------------------------------------------------------------------------------------------------------------------------------------------------------------------------------------------------------------------------------------------+\n",
      "|https://reqres.in/api/users|{}     |{}  |{page -> 2}|    |{}       |GET   |{}     |[{6, 12, 2, 2, [{Lawson, https://reqres.in/img/faces/7-image.jpg, 7, Michael, michael.lawson@reqres.in}, {Ferguson, https://reqres.in/img/faces/8-image.jpg, 8, Lindsay, lindsay.ferguson@reqres.in}, {Funke, https://reqres.in/img/faces/9-image.jpg, 9, Tobias, tobias.funke@reqres.in}, {Fields, https://reqres.in/img/faces/10-image.jpg, 10, Byron, byron.fields@reqres.in}, {Edwards, https://reqres.in/img/faces/11-image.jpg, 11, George, george.edwards@reqres.in}, {Howell, https://reqres.in/img/faces/12-image.jpg, 12, Rachel, rachel.howell@reqres.in}]}]|\n",
      "+---------------------------+-------+----+-----------+----+---------+------+-------+-----------------------------------------------------------------------------------------------------------------------------------------------------------------------------------------------------------------------------------------------------------------------------------------------------------------------------------------------------------------------------------------------------------------------------------------------------------------------------------------------------------------------------------------------------------------------+\n",
      "\n"
     ]
    }
   ],
   "source": [
    "data_schema = \"array<struct<per_page:int, total:int, total_pages:int, page:int, data:array<struct<last_name:string, avatar:string, id:int, first_name:string, email:string>>>>\"\n",
    "\n",
    "result_df = request_dataframe(\n",
    "    url=\"https://reqres.in/api/users\",\n",
    "    params={\"page\": 2},\n",
    "    method=\"GET\",\n",
    "    schema=data_schema,\n",
    ")\n",
    "result_df.show(truncate=False)"
   ]
  },
  {
   "cell_type": "code",
   "execution_count": 8,
   "metadata": {},
   "outputs": [
    {
     "name": "stderr",
     "output_type": "stream",
     "text": [
      "INFO:pushcart.metadata:Attempting to infer timestamp format for url column.\n",
      "WARNING:pushcart.metadata:Could not infer timestamp format for url column.\n",
      "INFO:pushcart.metadata:Attempting to infer JSON schema for url column.\n",
      "WARNING:pushcart.metadata:Could not infer JSON schema for url column.\n",
      "INFO:pushcart.metadata:Attempting to infer timestamp format for data column.\n",
      "WARNING:pushcart.metadata:Could not infer timestamp format for data column.\n",
      "INFO:pushcart.metadata:Attempting to infer JSON schema for data column.\n",
      "INFO:pushcart.metadata:Attempting to infer timestamp format for method column.\n",
      "WARNING:pushcart.metadata:Could not infer timestamp format for method column.\n",
      "INFO:pushcart.metadata:Attempting to infer JSON schema for method column.\n",
      "WARNING:pushcart.metadata:Could not infer JSON schema for method column.\n"
     ]
    },
    {
     "data": {
      "application/vnd.jupyter.widget-view+json": {
       "model_id": "0fcb9423bf5b4425a73c1e6ce44b498d",
       "version_major": 2,
       "version_minor": 0
      },
      "text/plain": [
       "DataGrid(auto_fit_columns=True, auto_fit_params={'area': 'all'}, corner_renderer=None, default_renderer=TextRe…"
      ]
     },
     "metadata": {},
     "output_type": "display_data"
    }
   ],
   "source": [
    "md = Metadata(result_df, infer_fraction=1.0)\n",
    "md.get_metadata()\n"
   ]
  },
  {
   "cell_type": "code",
   "execution_count": 9,
   "metadata": {},
   "outputs": [
    {
     "name": "stderr",
     "output_type": "stream",
     "text": [
      "INFO:pushcart.metadata:Excluding technical columns: None\n",
      "INFO:pushcart.metadata:\n",
      "df = (df\n",
      "\t.withColumn(\"data\", F.from_json(F.col(\"data\"), schema=\"struct<>\"))\n",
      "\t.withColumn(\"result\", F.explode(\"result\"))\n",
      "\t.withColumn(\"result_per_page\", F.col(\"result.per_page\").cast(\"int\"))\n",
      "\t.withColumn(\"result_total\", F.col(\"result.total\").cast(\"int\"))\n",
      "\t.withColumn(\"result_total_pages\", F.col(\"result.total_pages\").cast(\"int\"))\n",
      "\t.withColumn(\"result_page\", F.col(\"result.page\").cast(\"int\"))\n",
      "\t.withColumn(\"result_data\", F.explode(\"result.data\"))\n",
      "\t.withColumn(\"result_data_last_name\", F.col(\"result_data.last_name\").cast(\"string\"))\n",
      "\t.withColumn(\"result_data_avatar\", F.col(\"result_data.avatar\").cast(\"string\"))\n",
      "\t.withColumn(\"result_data_id\", F.col(\"result_data.id\").cast(\"int\"))\n",
      "\t.withColumn(\"result_data_first_name\", F.col(\"result_data.first_name\").cast(\"string\"))\n",
      "\t.withColumn(\"result_data_email\", F.col(\"result_data.email\").cast(\"string\"))\n",
      "\t.select(['url', 'headers', 'auth', 'params', 'data', 'json_data', 'method', 'options', 'result', 'result_per_page', 'result_total', 'result_total_pages', 'result_page', 'result_data', 'result_data_last_name', 'result_data_avatar', 'result_data_id', 'result_data_first_name', 'result_data_email']))\n"
     ]
    }
   ],
   "source": [
    "code = md.generate_code()"
   ]
  },
  {
   "cell_type": "code",
   "execution_count": 10,
   "metadata": {},
   "outputs": [
    {
     "name": "stderr",
     "output_type": "stream",
     "text": [
      "                                                                                \r"
     ]
    },
    {
     "name": "stdout",
     "output_type": "stream",
     "text": [
      "+---------------------------+-------+----+-----------+----+---------+------+-------+---------------------------------------------------------------------------------------------------------------------------------------------------------------------------------------------------------------------------------------------------------------------------------------------------------------------------------------------------------------------------------------------------------------------------------------------------------------------------------------------------------------------------------------------------------------------+---------------+------------+------------------+-----------+-------------------------------------------------------------------------------------------+---------------------+----------------------------------------+--------------+----------------------+--------------------------+\n",
      "|url                        |headers|auth|params     |data|json_data|method|options|result                                                                                                                                                                                                                                                                                                                                                                                                                                                                                                                                                               |result_per_page|result_total|result_total_pages|result_page|result_data                                                                                |result_data_last_name|result_data_avatar                      |result_data_id|result_data_first_name|result_data_email         |\n",
      "+---------------------------+-------+----+-----------+----+---------+------+-------+---------------------------------------------------------------------------------------------------------------------------------------------------------------------------------------------------------------------------------------------------------------------------------------------------------------------------------------------------------------------------------------------------------------------------------------------------------------------------------------------------------------------------------------------------------------------+---------------+------------+------------------+-----------+-------------------------------------------------------------------------------------------+---------------------+----------------------------------------+--------------+----------------------+--------------------------+\n",
      "|https://reqres.in/api/users|{}     |{}  |{page -> 2}|null|{}       |GET   |{}     |{6, 12, 2, 2, [{Lawson, https://reqres.in/img/faces/7-image.jpg, 7, Michael, michael.lawson@reqres.in}, {Ferguson, https://reqres.in/img/faces/8-image.jpg, 8, Lindsay, lindsay.ferguson@reqres.in}, {Funke, https://reqres.in/img/faces/9-image.jpg, 9, Tobias, tobias.funke@reqres.in}, {Fields, https://reqres.in/img/faces/10-image.jpg, 10, Byron, byron.fields@reqres.in}, {Edwards, https://reqres.in/img/faces/11-image.jpg, 11, George, george.edwards@reqres.in}, {Howell, https://reqres.in/img/faces/12-image.jpg, 12, Rachel, rachel.howell@reqres.in}]}|6              |12          |2                 |2          |{Lawson, https://reqres.in/img/faces/7-image.jpg, 7, Michael, michael.lawson@reqres.in}    |Lawson               |https://reqres.in/img/faces/7-image.jpg |7             |Michael               |michael.lawson@reqres.in  |\n",
      "|https://reqres.in/api/users|{}     |{}  |{page -> 2}|null|{}       |GET   |{}     |{6, 12, 2, 2, [{Lawson, https://reqres.in/img/faces/7-image.jpg, 7, Michael, michael.lawson@reqres.in}, {Ferguson, https://reqres.in/img/faces/8-image.jpg, 8, Lindsay, lindsay.ferguson@reqres.in}, {Funke, https://reqres.in/img/faces/9-image.jpg, 9, Tobias, tobias.funke@reqres.in}, {Fields, https://reqres.in/img/faces/10-image.jpg, 10, Byron, byron.fields@reqres.in}, {Edwards, https://reqres.in/img/faces/11-image.jpg, 11, George, george.edwards@reqres.in}, {Howell, https://reqres.in/img/faces/12-image.jpg, 12, Rachel, rachel.howell@reqres.in}]}|6              |12          |2                 |2          |{Ferguson, https://reqres.in/img/faces/8-image.jpg, 8, Lindsay, lindsay.ferguson@reqres.in}|Ferguson             |https://reqres.in/img/faces/8-image.jpg |8             |Lindsay               |lindsay.ferguson@reqres.in|\n",
      "|https://reqres.in/api/users|{}     |{}  |{page -> 2}|null|{}       |GET   |{}     |{6, 12, 2, 2, [{Lawson, https://reqres.in/img/faces/7-image.jpg, 7, Michael, michael.lawson@reqres.in}, {Ferguson, https://reqres.in/img/faces/8-image.jpg, 8, Lindsay, lindsay.ferguson@reqres.in}, {Funke, https://reqres.in/img/faces/9-image.jpg, 9, Tobias, tobias.funke@reqres.in}, {Fields, https://reqres.in/img/faces/10-image.jpg, 10, Byron, byron.fields@reqres.in}, {Edwards, https://reqres.in/img/faces/11-image.jpg, 11, George, george.edwards@reqres.in}, {Howell, https://reqres.in/img/faces/12-image.jpg, 12, Rachel, rachel.howell@reqres.in}]}|6              |12          |2                 |2          |{Funke, https://reqres.in/img/faces/9-image.jpg, 9, Tobias, tobias.funke@reqres.in}        |Funke                |https://reqres.in/img/faces/9-image.jpg |9             |Tobias                |tobias.funke@reqres.in    |\n",
      "|https://reqres.in/api/users|{}     |{}  |{page -> 2}|null|{}       |GET   |{}     |{6, 12, 2, 2, [{Lawson, https://reqres.in/img/faces/7-image.jpg, 7, Michael, michael.lawson@reqres.in}, {Ferguson, https://reqres.in/img/faces/8-image.jpg, 8, Lindsay, lindsay.ferguson@reqres.in}, {Funke, https://reqres.in/img/faces/9-image.jpg, 9, Tobias, tobias.funke@reqres.in}, {Fields, https://reqres.in/img/faces/10-image.jpg, 10, Byron, byron.fields@reqres.in}, {Edwards, https://reqres.in/img/faces/11-image.jpg, 11, George, george.edwards@reqres.in}, {Howell, https://reqres.in/img/faces/12-image.jpg, 12, Rachel, rachel.howell@reqres.in}]}|6              |12          |2                 |2          |{Fields, https://reqres.in/img/faces/10-image.jpg, 10, Byron, byron.fields@reqres.in}      |Fields               |https://reqres.in/img/faces/10-image.jpg|10            |Byron                 |byron.fields@reqres.in    |\n",
      "|https://reqres.in/api/users|{}     |{}  |{page -> 2}|null|{}       |GET   |{}     |{6, 12, 2, 2, [{Lawson, https://reqres.in/img/faces/7-image.jpg, 7, Michael, michael.lawson@reqres.in}, {Ferguson, https://reqres.in/img/faces/8-image.jpg, 8, Lindsay, lindsay.ferguson@reqres.in}, {Funke, https://reqres.in/img/faces/9-image.jpg, 9, Tobias, tobias.funke@reqres.in}, {Fields, https://reqres.in/img/faces/10-image.jpg, 10, Byron, byron.fields@reqres.in}, {Edwards, https://reqres.in/img/faces/11-image.jpg, 11, George, george.edwards@reqres.in}, {Howell, https://reqres.in/img/faces/12-image.jpg, 12, Rachel, rachel.howell@reqres.in}]}|6              |12          |2                 |2          |{Edwards, https://reqres.in/img/faces/11-image.jpg, 11, George, george.edwards@reqres.in}  |Edwards              |https://reqres.in/img/faces/11-image.jpg|11            |George                |george.edwards@reqres.in  |\n",
      "|https://reqres.in/api/users|{}     |{}  |{page -> 2}|null|{}       |GET   |{}     |{6, 12, 2, 2, [{Lawson, https://reqres.in/img/faces/7-image.jpg, 7, Michael, michael.lawson@reqres.in}, {Ferguson, https://reqres.in/img/faces/8-image.jpg, 8, Lindsay, lindsay.ferguson@reqres.in}, {Funke, https://reqres.in/img/faces/9-image.jpg, 9, Tobias, tobias.funke@reqres.in}, {Fields, https://reqres.in/img/faces/10-image.jpg, 10, Byron, byron.fields@reqres.in}, {Edwards, https://reqres.in/img/faces/11-image.jpg, 11, George, george.edwards@reqres.in}, {Howell, https://reqres.in/img/faces/12-image.jpg, 12, Rachel, rachel.howell@reqres.in}]}|6              |12          |2                 |2          |{Howell, https://reqres.in/img/faces/12-image.jpg, 12, Rachel, rachel.howell@reqres.in}    |Howell               |https://reqres.in/img/faces/12-image.jpg|12            |Rachel                |rachel.howell@reqres.in   |\n",
      "+---------------------------+-------+----+-----------+----+---------+------+-------+---------------------------------------------------------------------------------------------------------------------------------------------------------------------------------------------------------------------------------------------------------------------------------------------------------------------------------------------------------------------------------------------------------------------------------------------------------------------------------------------------------------------------------------------------------------------+---------------+------------+------------------+-----------+-------------------------------------------------------------------------------------------+---------------------+----------------------------------------+--------------+----------------------+--------------------------+\n",
      "\n"
     ]
    },
    {
     "name": "stderr",
     "output_type": "stream",
     "text": [
      "                                                                                \r"
     ]
    }
   ],
   "source": [
    "df2 = (\n",
    "    result_df.withColumn(\"data\", F.from_json(F.col(\"data\"), schema=\"struct<>\"))\n",
    "    .withColumn(\"result\", F.explode(\"result\"))\n",
    "    .withColumn(\"result_per_page\", F.col(\"result.per_page\").cast(\"int\"))\n",
    "    .withColumn(\"result_total\", F.col(\"result.total\").cast(\"int\"))\n",
    "    .withColumn(\"result_total_pages\", F.col(\"result.total_pages\").cast(\"int\"))\n",
    "    .withColumn(\"result_page\", F.col(\"result.page\").cast(\"int\"))\n",
    "    .withColumn(\"result_data\", F.explode(\"result.data\"))\n",
    "    .withColumn(\"result_data_last_name\", F.col(\"result_data.last_name\").cast(\"string\"))\n",
    "    .withColumn(\"result_data_avatar\", F.col(\"result_data.avatar\").cast(\"string\"))\n",
    "    .withColumn(\"result_data_id\", F.col(\"result_data.id\").cast(\"int\"))\n",
    "    .withColumn(\n",
    "        \"result_data_first_name\", F.col(\"result_data.first_name\").cast(\"string\")\n",
    "    )\n",
    "    .withColumn(\"result_data_email\", F.col(\"result_data.email\").cast(\"string\"))\n",
    "    .select(\n",
    "        [\n",
    "            \"url\",\n",
    "            \"headers\",\n",
    "            \"auth\",\n",
    "            \"params\",\n",
    "            \"data\",\n",
    "            \"json_data\",\n",
    "            \"method\",\n",
    "            \"options\",\n",
    "            \"result\",\n",
    "            \"result_per_page\",\n",
    "            \"result_total\",\n",
    "            \"result_total_pages\",\n",
    "            \"result_page\",\n",
    "            \"result_data\",\n",
    "            \"result_data_last_name\",\n",
    "            \"result_data_avatar\",\n",
    "            \"result_data_id\",\n",
    "            \"result_data_first_name\",\n",
    "            \"result_data_email\",\n",
    "        ]\n",
    "    )\n",
    ")\n",
    "df2.show(truncate=False)"
   ]
  }
 ],
 "metadata": {
  "kernelspec": {
   "display_name": ".venv",
   "language": "python",
   "name": "python3"
  },
  "language_info": {
   "codemirror_mode": {
    "name": "ipython",
    "version": 3
   },
   "file_extension": ".py",
   "mimetype": "text/x-python",
   "name": "python",
   "nbconvert_exporter": "python",
   "pygments_lexer": "ipython3",
   "version": "3.11.3"
  },
  "orig_nbformat": 4
 },
 "nbformat": 4,
 "nbformat_minor": 2
}
